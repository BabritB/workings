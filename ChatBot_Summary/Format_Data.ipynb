{
 "cells": [
  {
   "cell_type": "code",
   "execution_count": 21,
   "metadata": {},
   "outputs": [],
   "source": [
    "import numpy as np\n",
    "import pandas as pd\n",
    "import string\n",
    "from nltk.corpus import stopwords\n",
    "from nltk.stem import PorterStemmer\n",
    "from nltk.tokenize import word_tokenize, sent_tokenize\n",
    "import matplotlib.pyplot as plt\n",
    "import matplotlib.style as style\n",
    "import seaborn as sns"
   ]
  },
  {
   "cell_type": "code",
   "execution_count": 22,
   "metadata": {},
   "outputs": [],
   "source": [
    "f=open('data_to_babrit/daata').read()"
   ]
  },
  {
   "cell_type": "code",
   "execution_count": 23,
   "metadata": {},
   "outputs": [],
   "source": [
    "table=str.maketrans('','',string.punctuation)"
   ]
  },
  {
   "cell_type": "code",
   "execution_count": 24,
   "metadata": {},
   "outputs": [],
   "source": [
    "conv_dic_A=dict()\n",
    "for i in range(len(f.split('CON'))):\n",
    "    flag=0\n",
    "    llst=[]\n",
    "    cf = f.split('CON')[i].split('\\n')\n",
    "    host_name=''\n",
    "    for m in cf:\n",
    "        \n",
    "        if \"hostName\" in m:\n",
    "            host_name=m.split(':')[2].strip()\n",
    "            host_name=host_name.translate(table).lower()\n",
    "            #print(host_name)\n",
    "#         llst.append(host_name)\n",
    "        if 'questions' in m:\n",
    "            flag=1\n",
    "        if flag==1:\n",
    "            llst.append(m)\n",
    "        if ']' in m:\n",
    "            flag=0\n",
    "            #llst.append(host_name)\n",
    "        m_list=llst[1:-1]\n",
    "    if host_name not in conv_dic_A.keys():\n",
    "        conv_dic_A[host_name]=m_list\n",
    "    else:\n",
    "        conv_dic_A[host_name]+=m_list\n",
    "    "
   ]
  },
  {
   "cell_type": "code",
   "execution_count": 25,
   "metadata": {},
   "outputs": [],
   "source": [
    "# conv_dic_A"
   ]
  },
  {
   "cell_type": "code",
   "execution_count": 26,
   "metadata": {},
   "outputs": [],
   "source": [
    "for key in conv_dic_A.keys():\n",
    "    conv_dic_A[key]=[sent.translate(table).lower() if '/' not in sent and sent != '' else \n",
    "                    'bot_response : '+ sent.translate(table).lower() for sent in conv_dic_A[key]]"
   ]
  },
  {
   "cell_type": "code",
   "execution_count": 27,
   "metadata": {},
   "outputs": [],
   "source": [
    "#conv_dic_A"
   ]
  },
  {
   "cell_type": "code",
   "execution_count": 28,
   "metadata": {},
   "outputs": [
    {
     "data": {
      "text/plain": [
       "['i want to know about your services',\n",
       " 'bot_response : quanta',\n",
       " 'thanks',\n",
       " 'may i know your services',\n",
       " 'bot_response : qspeech',\n",
       " 'okay',\n",
       " 'bot_response : ',\n",
       " 'which type of services you are providing',\n",
       " 'bot_response : quanta',\n",
       " 'can you describe more about quanta',\n",
       " 'shreekantbonkurisgmailcom',\n",
       " 'thanks for the info',\n",
       " 'hello',\n",
       " 'bot_response : qspeech',\n",
       " 'thanks']"
      ]
     },
     "execution_count": 28,
     "metadata": {},
     "output_type": "execute_result"
    }
   ],
   "source": [
    "# from the dictionary we can get all the queries per website:\n",
    "conv_dic_A['nquantum']"
   ]
  },
  {
   "cell_type": "code",
   "execution_count": 29,
   "metadata": {},
   "outputs": [],
   "source": [
    "#conv_dic_A['dspaces']"
   ]
  },
  {
   "cell_type": "code",
   "execution_count": 49,
   "metadata": {},
   "outputs": [],
   "source": [
    "def get_analysis(org_name):\n",
    "    report_org=dict()\n",
    "    for item in conv_dic_A[org_name]:\n",
    "        if item.startswith('bot_response'):\n",
    "            intent=item.split(':')[1].strip()\n",
    "            if intent != '':\n",
    "                if intent in report_org:\n",
    "                    report_org[intent]+=1\n",
    "                else:\n",
    "                    report_org[intent]=1\n",
    "    frame={'Intent':list(report_org.keys()),'Count':list(report_org.values())}\n",
    "    data=pd.DataFrame(frame)\n",
    "    style.use('fivethirtyeight')\n",
    "    sns.barplot(x='Intent', y='Count',data=data)"
   ]
  },
  {
   "cell_type": "code",
   "execution_count": 50,
   "metadata": {},
   "outputs": [
    {
     "data": {
      "image/png": "[encoded data removed]",
      "text/plain": [
       "<Figure size 432x288 with 1 Axes>"
      ]
     },
     "metadata": {},
     "output_type": "display_data"
    }
   ],
   "source": [
    "report = get_analysis('i2')"
   ]
  },
  {
   "cell_type": "code",
   "execution_count": 51,
   "metadata": {},
   "outputs": [
    {
     "data": {
      "image/png": "[encoded data removed]",
      "text/plain": [
       "<Figure size 432x288 with 1 Axes>"
      ]
     },
     "metadata": {},
     "output_type": "display_data"
    }
   ],
   "source": [
    "report = get_analysis('minikroft')"
   ]
  },
  {
   "cell_type": "code",
   "execution_count": 52,
   "metadata": {},
   "outputs": [],
   "source": [
    "# Like wise we can also set the emotions by getting the good_mood or bad_mood values... Similar;y we can plot multile\n",
    "# orgnisation data\n"
   ]
  },
  {
   "cell_type": "code",
   "execution_count": null,
   "metadata": {},
   "outputs": [],
   "source": []
  }
 ],
 "metadata": {
  "kernelspec": {
   "display_name": "Python 3",
   "language": "python",
   "name": "python3"
  },
  "language_info": {
   "codemirror_mode": {
    "name": "ipython",
    "version": 3
   },
   "file_extension": ".py",
   "mimetype": "text/x-python",
   "name": "python",
   "nbconvert_exporter": "python",
   "pygments_lexer": "ipython3",
   "version": "3.7.7"
  }
 },
 "nbformat": 4,
 "nbformat_minor": 4
}
