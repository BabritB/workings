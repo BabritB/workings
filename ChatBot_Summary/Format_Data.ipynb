{
 "cells": [
  {
   "cell_type": "code",
   "execution_count": 102,
   "metadata": {},
   "outputs": [],
   "source": [
    "import numpy as np\n",
    "import pandas as pd\n",
    "import string"
   ]
  },
  {
   "cell_type": "code",
   "execution_count": 90,
   "metadata": {},
   "outputs": [],
   "source": [
    "f=open('data/daata').read()"
   ]
  },
  {
   "cell_type": "code",
   "execution_count": 93,
   "metadata": {},
   "outputs": [],
   "source": [
    "conv_dic=dict()\n",
    "for i in range(len(f.split('CON'))):\n",
    "    flag=0\n",
    "    llst=[]\n",
    "    cf = f.split('CON')[i].split('\\n')\n",
    "\n",
    "    for m in cf:\n",
    "        if 'questions' in m:\n",
    "            flag=1\n",
    "        if flag==1:\n",
    "            llst.append(m)\n",
    "        if ']' in m:\n",
    "            flag=0\n",
    "        conv_dic[i]=llst[1:-1]"
   ]
  },
  {
   "cell_type": "code",
   "execution_count": 98,
   "metadata": {},
   "outputs": [
    {
     "data": {
      "text/plain": [
       "dict_keys([0, 1, 2, 3, 4, 5, 6, 7, 8, 9, 10, 11, 12, 13, 14, 15, 16, 17])"
      ]
     },
     "execution_count": 98,
     "metadata": {},
     "output_type": "execute_result"
    }
   ],
   "source": [
    "conv_dic.keys()"
   ]
  },
  {
   "cell_type": "code",
   "execution_count": 126,
   "metadata": {},
   "outputs": [],
   "source": [
    "doc_sent=[]\n",
    "sentences=[]\n",
    "table=str.maketrans('','',string.punctuation)\n",
    "for key in conv_dic.keys():\n",
    "    lst=conv_dic[key]\n",
    "    conv_dic[key]=[word.translate(table).lower() for word in lst if word != '']\n",
    "    if len(conv_dic[key])>0:\n",
    "        sentences.append(conv_dic[key])\n",
    "    for sent in sentences:\n",
    "        for line in sent:\n",
    "            doc_sent.append(line)"
   ]
  },
  {
   "cell_type": "code",
   "execution_count": 129,
   "metadata": {},
   "outputs": [],
   "source": [
    "doc_sent=list(set(doc_sent))"
   ]
  },
  {
   "cell_type": "code",
   "execution_count": 130,
   "metadata": {},
   "outputs": [
    {
     "data": {
      "text/plain": [
       "['i need subscription',\n",
       " 'subscription',\n",
       " 'may i know your services',\n",
       " 'which type of services you are providing',\n",
       " 'any video tutorials are there',\n",
       " 'qspeech',\n",
       " 'quanta',\n",
       " 'video',\n",
       " 'please block  next weekend',\n",
       " 'thanks',\n",
       " 'what is the course fee',\n",
       " 'colive',\n",
       " 'any discount for the payment for 1 year',\n",
       " 'elevations',\n",
       " 'premkumar9705698361',\n",
       " 'any special offers for yearly plan',\n",
       " 'i need python basics',\n",
       " 'onlinetraining',\n",
       " 'what is the price per 2 share',\n",
       " 'i want more information',\n",
       " 'okay',\n",
       " 'how can i subscribe your package',\n",
       " 'hello',\n",
       " 'i want to know about your services',\n",
       " 'yearly',\n",
       " 'send me brochure',\n",
       " 'can you describe more about quanta',\n",
       " 'i want to learn datascience ',\n",
       " 'i am looking for hosting an event on coming weekend ',\n",
       " 'tutorials',\n",
       " 'eventhosting',\n",
       " 'any python tutorial you have',\n",
       " 'what are your services',\n",
       " 'what type of plans you are giving',\n",
       " 'which type of courses you are providing',\n",
       " 'paymentoffers',\n",
       " 'monthly',\n",
       " 'what is the fee of ai course',\n",
       " 'any advanced feature you have',\n",
       " 'thanks for the info',\n",
       " 'fullstack tutorial',\n",
       " 'any discounts for yearly subscription',\n",
       " 'trainings',\n",
       " 'thats nice',\n",
       " 'devops',\n",
       " 'nagaraju8184997350',\n",
       " 'send me some elevations designs',\n",
       " 'can i change my package details freequently',\n",
       " 'i need python class timings']"
      ]
     },
     "execution_count": 130,
     "metadata": {},
     "output_type": "execute_result"
    }
   ],
   "source": [
    "doc_sent"
   ]
  },
  {
   "cell_type": "code",
   "execution_count": null,
   "metadata": {},
   "outputs": [],
   "source": []
  }
 ],
 "metadata": {
  "kernelspec": {
   "display_name": "Python 3",
   "language": "python",
   "name": "python3"
  },
  "language_info": {
   "codemirror_mode": {
    "name": "ipython",
    "version": 3
   },
   "file_extension": ".py",
   "mimetype": "text/x-python",
   "name": "python",
   "nbconvert_exporter": "python",
   "pygments_lexer": "ipython3",
   "version": "3.7.7"
  }
 },
 "nbformat": 4,
 "nbformat_minor": 4
}
