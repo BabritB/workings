{
 "cells": [
  {
   "cell_type": "code",
   "execution_count": 139,
   "metadata": {},
   "outputs": [],
   "source": [
    "import numpy as np\n",
    "import pandas as pd\n",
    "import string\n",
    "from nltk.corpus import stopwords\n",
    "from nltk.stem import PorterStemmer\n",
    "from nltk.tokenize import word_tokenize, sent_tokenize"
   ]
  },
  {
   "cell_type": "code",
   "execution_count": 90,
   "metadata": {},
   "outputs": [],
   "source": [
    "f=open('data/daata').read()"
   ]
  },
  {
   "cell_type": "code",
   "execution_count": 207,
   "metadata": {},
   "outputs": [],
   "source": [
    "# conv_dic=dict()\n",
    "# for i in range(len(f.split('CON'))):\n",
    "#     flag=0\n",
    "#     llst=[]\n",
    "#     cf = f.split('CON')[i].split('\\n')\n",
    "\n",
    "#     for m in cf:\n",
    "#         if 'questions' in m:\n",
    "#             flag=1\n",
    "#         if flag==1:\n",
    "#             llst.append(m)\n",
    "#         if ']' in m:\n",
    "#             flag=0\n",
    "#         conv_dic[i]=llst[1:-1]"
   ]
  },
  {
   "cell_type": "code",
   "execution_count": 208,
   "metadata": {},
   "outputs": [],
   "source": [
    "# key_users=conv_dic.keys()"
   ]
  },
  {
   "cell_type": "code",
   "execution_count": 209,
   "metadata": {},
   "outputs": [],
   "source": [
    "# doc_sent=[]\n",
    "# sentences=[]\n",
    "# table=str.maketrans('','',string.punctuation)\n",
    "# for key in conv_dic.keys():\n",
    "#     lst=conv_dic[key]\n",
    "#     conv_dic[key]=[word.translate(table).lower() for word in lst if word != '']\n",
    "#     if len(conv_dic[key])>0:\n",
    "#         sentences.append(conv_dic[key])\n",
    "#     for sent in sentences:\n",
    "#         for line in sent:\n",
    "#             doc_sent.append(line)"
   ]
  },
  {
   "cell_type": "code",
   "execution_count": 210,
   "metadata": {},
   "outputs": [],
   "source": [
    "# doc_sent=list(set(doc_sent))"
   ]
  },
  {
   "cell_type": "code",
   "execution_count": 211,
   "metadata": {},
   "outputs": [],
   "source": [
    "# doc_sent"
   ]
  },
  {
   "cell_type": "code",
   "execution_count": 198,
   "metadata": {},
   "outputs": [],
   "source": [
    "conv_dic_A=dict()\n",
    "for i in range(len(f.split('CON'))):\n",
    "    flag=0\n",
    "    llst=[]\n",
    "    cf = f.split('CON')[i].split('\\n')\n",
    "    host_name=''\n",
    "    for m in cf:\n",
    "        \n",
    "        if \"hostName\" in m:\n",
    "            host_name=m.split(':')[2].strip()\n",
    "            host_name=host_name.translate(table).lower()\n",
    "            #print(host_name)\n",
    "#         llst.append(host_name)\n",
    "        if 'questions' in m:\n",
    "            flag=1\n",
    "        if flag==1:\n",
    "            llst.append(m)\n",
    "        if ']' in m:\n",
    "            flag=0\n",
    "            #llst.append(host_name)\n",
    "        m_list=llst[1:-1]\n",
    "    if host_name not in conv_dic_A.keys():\n",
    "        conv_dic_A[host_name]=m_list\n",
    "    else:\n",
    "        conv_dic_A[host_name]+=m_list\n",
    "    "
   ]
  },
  {
   "cell_type": "code",
   "execution_count": 203,
   "metadata": {},
   "outputs": [],
   "source": [
    "# conv_dic_A"
   ]
  },
  {
   "cell_type": "code",
   "execution_count": 204,
   "metadata": {},
   "outputs": [],
   "source": [
    "for key in conv_dic_A.keys():\n",
    "    conv_dic_A[key]=[sent.translate(table).lower() for sent in conv_dic_A[key] if '/' not in sent and sent != '']"
   ]
  },
  {
   "cell_type": "code",
   "execution_count": 205,
   "metadata": {},
   "outputs": [
    {
     "data": {
      "text/plain": [
       "{'': [],\n",
       " 'nquantum': ['i want to know about your services',\n",
       "  'thanks',\n",
       "  'may i know your services',\n",
       "  'any advanced feature you have',\n",
       "  'thats nice',\n",
       "  'okay',\n",
       "  'which type of services you are providing',\n",
       "  'can you describe more about quanta',\n",
       "  'thanks for the info'],\n",
       " 'minikroft': ['hello',\n",
       "  'thanks',\n",
       "  'how can i subscribe your package',\n",
       "  'any discounts for yearly subscription',\n",
       "  'thanks',\n",
       "  'i need subscription',\n",
       "  'can i change my package details freequently',\n",
       "  'thanks'],\n",
       " 'clowork': ['what type of plans you are giving',\n",
       "  'any special offers for yearly plan',\n",
       "  'thanks',\n",
       "  'i am looking for hosting an event on coming weekend ',\n",
       "  'please block  next weekend',\n",
       "  'what are your services',\n",
       "  'what is the price per 2 share',\n",
       "  'any discount for the payment for 1 year',\n",
       "  'thanks'],\n",
       " 'i2': ['what are your services',\n",
       "  'i need python basics',\n",
       "  'thanks',\n",
       "  'what are your services',\n",
       "  'what is the fee of ai course',\n",
       "  'thanks',\n",
       "  'what are your services',\n",
       "  'any video tutorials are there',\n",
       "  'thanks',\n",
       "  'what are your services',\n",
       "  'i need python class timings',\n",
       "  'thanks',\n",
       "  'what are your services',\n",
       "  'thanks'],\n",
       " 'localhost': ['which type of courses you are providing', 'thanks'],\n",
       " 'dspaces': ['i want to know about your services',\n",
       "  'elevations',\n",
       "  'send me some elevations designs',\n",
       "  'premkumar9705698361',\n",
       "  'i want more information',\n",
       "  'send me brochure'],\n",
       " 'i2tutorials': ['i want to learn datascience ',\n",
       "  'nagaraju8184997350',\n",
       "  'any python tutorial you have',\n",
       "  'what is the course fee',\n",
       "  'thanks']}"
      ]
     },
     "execution_count": 205,
     "metadata": {},
     "output_type": "execute_result"
    }
   ],
   "source": [
    "conv_dic_A"
   ]
  },
  {
   "cell_type": "code",
   "execution_count": 212,
   "metadata": {},
   "outputs": [
    {
     "data": {
      "text/plain": [
       "['i want to learn datascience ',\n",
       " 'nagaraju8184997350',\n",
       " 'any python tutorial you have',\n",
       " 'what is the course fee',\n",
       " 'thanks']"
      ]
     },
     "execution_count": 212,
     "metadata": {},
     "output_type": "execute_result"
    }
   ],
   "source": [
    "# from the dictionary we can get all the queries per website:\n",
    "conv_dic_A['i2tutorials']"
   ]
  },
  {
   "cell_type": "code",
   "execution_count": 213,
   "metadata": {},
   "outputs": [
    {
     "data": {
      "text/plain": [
       "['i want to know about your services',\n",
       " 'elevations',\n",
       " 'send me some elevations designs',\n",
       " 'premkumar9705698361',\n",
       " 'i want more information',\n",
       " 'send me brochure']"
      ]
     },
     "execution_count": 213,
     "metadata": {},
     "output_type": "execute_result"
    }
   ],
   "source": [
    "conv_dic_A['dspaces']"
   ]
  },
  {
   "cell_type": "code",
   "execution_count": null,
   "metadata": {},
   "outputs": [],
   "source": []
  }
 ],
 "metadata": {
  "kernelspec": {
   "display_name": "Python 3",
   "language": "python",
   "name": "python3"
  },
  "language_info": {
   "codemirror_mode": {
    "name": "ipython",
    "version": 3
   },
   "file_extension": ".py",
   "mimetype": "text/x-python",
   "name": "python",
   "nbconvert_exporter": "python",
   "pygments_lexer": "ipython3",
   "version": "3.7.7"
  }
 },
 "nbformat": 4,
 "nbformat_minor": 4
}
