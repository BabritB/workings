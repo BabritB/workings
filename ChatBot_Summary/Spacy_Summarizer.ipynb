{
 "cells": [
  {
   "cell_type": "code",
   "execution_count": 33,
   "metadata": {},
   "outputs": [],
   "source": [
    "import spacy\n",
    "from spacy.lang.en.stop_words import STOP_WORDS\n",
    "from string import punctuation"
   ]
  },
  {
   "cell_type": "code",
   "execution_count": 34,
   "metadata": {},
   "outputs": [],
   "source": [
    "stopwords = list(STOP_WORDS)"
   ]
  },
  {
   "cell_type": "code",
   "execution_count": 35,
   "metadata": {},
   "outputs": [],
   "source": [
    "document1 =\"\"\"Machine learning (ML) is the scientific study of algorithms and statistical models that computer systems use to progressively improve their performance on a specific task. Machine learning algorithms build a mathematical model of sample data, known as \"training data\", in order to make predictions or decisions without being explicitly programmed to perform the task. Machine learning algorithms are used in the applications of email filtering, detection of network intruders, and computer vision, where it is infeasible to develop an algorithm of specific instructions for performing the task. Machine learning is closely related to computational statistics, which focuses on making predictions using computers. The study of mathematical optimization delivers methods, theory and application domains to the field of machine learning. Data mining is a field of study within machine learning, and focuses on exploratory data analysis through unsupervised learning.In its application across business problems, machine learning is also referred to as predictive analytics.\"\"\""
   ]
  },
  {
   "cell_type": "code",
   "execution_count": 36,
   "metadata": {},
   "outputs": [],
   "source": [
    "document_wiki='''Facebook is an American online social media and social networking service based in Menlo Park, California and a flagship service of the namesake company Facebook, Inc. It was founded by Mark Zuckerberg, along with fellow Harvard College students and roommates Eduardo Saverin, Andrew McCollum, Dustin Moskovitz and Chris Hughes.Facebook can be accessed from devices with Internet connectivity, such as personal computers, tablets and smartphones. After registering, users can create a profile revealing information about themselves. They can post text, photos and multimedia which is shared with any other users that have agreed to be their \"friend\", or, with a different privacy setting, with any reader. Users can also use various embedded apps, join common-interest groups, buy and sell items or services on Marketplace, and receive notifications of their Facebook friends' activities and activities of Facebook pages they follow. Facebook claimed that it had more than 2.3 billion monthly active users as of December 2018.'''"
   ]
  },
  {
   "cell_type": "code",
   "execution_count": 37,
   "metadata": {},
   "outputs": [],
   "source": [
    "nlp = spacy.load('en')"
   ]
  },
  {
   "cell_type": "code",
   "execution_count": 38,
   "metadata": {},
   "outputs": [],
   "source": [
    "docx = nlp(document_wiki)"
   ]
  },
  {
   "cell_type": "code",
   "execution_count": 39,
   "metadata": {},
   "outputs": [],
   "source": [
    "mytokens = [token.text for token in docx]"
   ]
  },
  {
   "cell_type": "code",
   "execution_count": 40,
   "metadata": {},
   "outputs": [
    {
     "data": {
      "text/plain": [
       "['Facebook',\n",
       " 'is',\n",
       " 'an',\n",
       " 'American',\n",
       " 'online',\n",
       " 'social',\n",
       " 'media',\n",
       " 'and',\n",
       " 'social',\n",
       " 'networking',\n",
       " 'service',\n",
       " 'based',\n",
       " 'in',\n",
       " 'Menlo',\n",
       " 'Park',\n",
       " ',',\n",
       " 'California',\n",
       " 'and',\n",
       " 'a',\n",
       " 'flagship',\n",
       " 'service',\n",
       " 'of',\n",
       " 'the',\n",
       " 'namesake',\n",
       " 'company',\n",
       " 'Facebook',\n",
       " ',',\n",
       " 'Inc.',\n",
       " 'It',\n",
       " 'was',\n",
       " 'founded',\n",
       " 'by',\n",
       " 'Mark',\n",
       " 'Zuckerberg',\n",
       " ',',\n",
       " 'along',\n",
       " 'with',\n",
       " 'fellow',\n",
       " 'Harvard',\n",
       " 'College',\n",
       " 'students',\n",
       " 'and',\n",
       " 'roommates',\n",
       " 'Eduardo',\n",
       " 'Saverin',\n",
       " ',',\n",
       " 'Andrew',\n",
       " 'McCollum',\n",
       " ',',\n",
       " 'Dustin',\n",
       " 'Moskovitz',\n",
       " 'and',\n",
       " 'Chris',\n",
       " 'Hughes',\n",
       " '.',\n",
       " 'Facebook',\n",
       " 'can',\n",
       " 'be',\n",
       " 'accessed',\n",
       " 'from',\n",
       " 'devices',\n",
       " 'with',\n",
       " 'Internet',\n",
       " 'connectivity',\n",
       " ',',\n",
       " 'such',\n",
       " 'as',\n",
       " 'personal',\n",
       " 'computers',\n",
       " ',',\n",
       " 'tablets',\n",
       " 'and',\n",
       " 'smartphones',\n",
       " '.',\n",
       " 'After',\n",
       " 'registering',\n",
       " ',',\n",
       " 'users',\n",
       " 'can',\n",
       " 'create',\n",
       " 'a',\n",
       " 'profile',\n",
       " 'revealing',\n",
       " 'information',\n",
       " 'about',\n",
       " 'themselves',\n",
       " '.',\n",
       " 'They',\n",
       " 'can',\n",
       " 'post',\n",
       " 'text',\n",
       " ',',\n",
       " 'photos',\n",
       " 'and',\n",
       " 'multimedia',\n",
       " 'which',\n",
       " 'is',\n",
       " 'shared',\n",
       " 'with',\n",
       " 'any',\n",
       " 'other',\n",
       " 'users',\n",
       " 'that',\n",
       " 'have',\n",
       " 'agreed',\n",
       " 'to',\n",
       " 'be',\n",
       " 'their',\n",
       " '\"',\n",
       " 'friend',\n",
       " '\"',\n",
       " ',',\n",
       " 'or',\n",
       " ',',\n",
       " 'with',\n",
       " 'a',\n",
       " 'different',\n",
       " 'privacy',\n",
       " 'setting',\n",
       " ',',\n",
       " 'with',\n",
       " 'any',\n",
       " 'reader',\n",
       " '.',\n",
       " 'Users',\n",
       " 'can',\n",
       " 'also',\n",
       " 'use',\n",
       " 'various',\n",
       " 'embedded',\n",
       " 'apps',\n",
       " ',',\n",
       " 'join',\n",
       " 'common',\n",
       " '-',\n",
       " 'interest',\n",
       " 'groups',\n",
       " ',',\n",
       " 'buy',\n",
       " 'and',\n",
       " 'sell',\n",
       " 'items',\n",
       " 'or',\n",
       " 'services',\n",
       " 'on',\n",
       " 'Marketplace',\n",
       " ',',\n",
       " 'and',\n",
       " 'receive',\n",
       " 'notifications',\n",
       " 'of',\n",
       " 'their',\n",
       " 'Facebook',\n",
       " 'friends',\n",
       " \"'\",\n",
       " 'activities',\n",
       " 'and',\n",
       " 'activities',\n",
       " 'of',\n",
       " 'Facebook',\n",
       " 'pages',\n",
       " 'they',\n",
       " 'follow',\n",
       " '.',\n",
       " 'Facebook',\n",
       " 'claimed',\n",
       " 'that',\n",
       " 'it',\n",
       " 'had',\n",
       " 'more',\n",
       " 'than',\n",
       " '2.3',\n",
       " 'billion',\n",
       " 'monthly',\n",
       " 'active',\n",
       " 'users',\n",
       " 'as',\n",
       " 'of',\n",
       " 'December',\n",
       " '2018',\n",
       " '.']"
      ]
     },
     "execution_count": 40,
     "metadata": {},
     "output_type": "execute_result"
    }
   ],
   "source": [
    "mytokens"
   ]
  },
  {
   "cell_type": "code",
   "execution_count": 41,
   "metadata": {},
   "outputs": [],
   "source": [
    "#WordFrequency Table:\n",
    "word_frequencies = {}\n",
    "for word in docx:\n",
    "    if word.text not in stopwords:\n",
    "        if word.text not in word_frequencies.keys():\n",
    "            word_frequencies[word.text]=1\n",
    "        else:\n",
    "            word_frequencies[word.text]+=1"
   ]
  },
  {
   "cell_type": "code",
   "execution_count": 42,
   "metadata": {},
   "outputs": [
    {
     "data": {
      "text/plain": [
       "{'Facebook': 6,\n",
       " 'American': 1,\n",
       " 'online': 1,\n",
       " 'social': 2,\n",
       " 'media': 1,\n",
       " 'networking': 1,\n",
       " 'service': 2,\n",
       " 'based': 1,\n",
       " 'Menlo': 1,\n",
       " 'Park': 1,\n",
       " ',': 15,\n",
       " 'California': 1,\n",
       " 'flagship': 1,\n",
       " 'namesake': 1,\n",
       " 'company': 1,\n",
       " 'Inc.': 1,\n",
       " 'It': 1,\n",
       " 'founded': 1,\n",
       " 'Mark': 1,\n",
       " 'Zuckerberg': 1,\n",
       " 'fellow': 1,\n",
       " 'Harvard': 1,\n",
       " 'College': 1,\n",
       " 'students': 1,\n",
       " 'roommates': 1,\n",
       " 'Eduardo': 1,\n",
       " 'Saverin': 1,\n",
       " 'Andrew': 1,\n",
       " 'McCollum': 1,\n",
       " 'Dustin': 1,\n",
       " 'Moskovitz': 1,\n",
       " 'Chris': 1,\n",
       " 'Hughes': 1,\n",
       " '.': 6,\n",
       " 'accessed': 1,\n",
       " 'devices': 1,\n",
       " 'Internet': 1,\n",
       " 'connectivity': 1,\n",
       " 'personal': 1,\n",
       " 'computers': 1,\n",
       " 'tablets': 1,\n",
       " 'smartphones': 1,\n",
       " 'After': 1,\n",
       " 'registering': 1,\n",
       " 'users': 3,\n",
       " 'create': 1,\n",
       " 'profile': 1,\n",
       " 'revealing': 1,\n",
       " 'information': 1,\n",
       " 'They': 1,\n",
       " 'post': 1,\n",
       " 'text': 1,\n",
       " 'photos': 1,\n",
       " 'multimedia': 1,\n",
       " 'shared': 1,\n",
       " 'agreed': 1,\n",
       " '\"': 2,\n",
       " 'friend': 1,\n",
       " 'different': 1,\n",
       " 'privacy': 1,\n",
       " 'setting': 1,\n",
       " 'reader': 1,\n",
       " 'Users': 1,\n",
       " 'use': 1,\n",
       " 'embedded': 1,\n",
       " 'apps': 1,\n",
       " 'join': 1,\n",
       " 'common': 1,\n",
       " '-': 1,\n",
       " 'interest': 1,\n",
       " 'groups': 1,\n",
       " 'buy': 1,\n",
       " 'sell': 1,\n",
       " 'items': 1,\n",
       " 'services': 1,\n",
       " 'Marketplace': 1,\n",
       " 'receive': 1,\n",
       " 'notifications': 1,\n",
       " 'friends': 1,\n",
       " \"'\": 1,\n",
       " 'activities': 2,\n",
       " 'pages': 1,\n",
       " 'follow': 1,\n",
       " 'claimed': 1,\n",
       " '2.3': 1,\n",
       " 'billion': 1,\n",
       " 'monthly': 1,\n",
       " 'active': 1,\n",
       " 'December': 1,\n",
       " '2018': 1}"
      ]
     },
     "execution_count": 42,
     "metadata": {},
     "output_type": "execute_result"
    }
   ],
   "source": [
    "word_frequencies"
   ]
  },
  {
   "cell_type": "code",
   "execution_count": 43,
   "metadata": {},
   "outputs": [],
   "source": [
    "max_frequency=max(word_frequencies.values())"
   ]
  },
  {
   "cell_type": "code",
   "execution_count": 44,
   "metadata": {},
   "outputs": [
    {
     "data": {
      "text/plain": [
       "15"
      ]
     },
     "execution_count": 44,
     "metadata": {},
     "output_type": "execute_result"
    }
   ],
   "source": [
    "max_frequency"
   ]
  },
  {
   "cell_type": "code",
   "execution_count": 45,
   "metadata": {},
   "outputs": [],
   "source": [
    "# Get the distribution of words:\n",
    "for word in word_frequencies.keys():\n",
    "    word_frequencies[word]=word_frequencies[word]/max_frequency"
   ]
  },
  {
   "cell_type": "code",
   "execution_count": 46,
   "metadata": {},
   "outputs": [
    {
     "data": {
      "text/plain": [
       "{'Facebook': 0.4,\n",
       " 'American': 0.06666666666666667,\n",
       " 'online': 0.06666666666666667,\n",
       " 'social': 0.13333333333333333,\n",
       " 'media': 0.06666666666666667,\n",
       " 'networking': 0.06666666666666667,\n",
       " 'service': 0.13333333333333333,\n",
       " 'based': 0.06666666666666667,\n",
       " 'Menlo': 0.06666666666666667,\n",
       " 'Park': 0.06666666666666667,\n",
       " ',': 1.0,\n",
       " 'California': 0.06666666666666667,\n",
       " 'flagship': 0.06666666666666667,\n",
       " 'namesake': 0.06666666666666667,\n",
       " 'company': 0.06666666666666667,\n",
       " 'Inc.': 0.06666666666666667,\n",
       " 'It': 0.06666666666666667,\n",
       " 'founded': 0.06666666666666667,\n",
       " 'Mark': 0.06666666666666667,\n",
       " 'Zuckerberg': 0.06666666666666667,\n",
       " 'fellow': 0.06666666666666667,\n",
       " 'Harvard': 0.06666666666666667,\n",
       " 'College': 0.06666666666666667,\n",
       " 'students': 0.06666666666666667,\n",
       " 'roommates': 0.06666666666666667,\n",
       " 'Eduardo': 0.06666666666666667,\n",
       " 'Saverin': 0.06666666666666667,\n",
       " 'Andrew': 0.06666666666666667,\n",
       " 'McCollum': 0.06666666666666667,\n",
       " 'Dustin': 0.06666666666666667,\n",
       " 'Moskovitz': 0.06666666666666667,\n",
       " 'Chris': 0.06666666666666667,\n",
       " 'Hughes': 0.06666666666666667,\n",
       " '.': 0.4,\n",
       " 'accessed': 0.06666666666666667,\n",
       " 'devices': 0.06666666666666667,\n",
       " 'Internet': 0.06666666666666667,\n",
       " 'connectivity': 0.06666666666666667,\n",
       " 'personal': 0.06666666666666667,\n",
       " 'computers': 0.06666666666666667,\n",
       " 'tablets': 0.06666666666666667,\n",
       " 'smartphones': 0.06666666666666667,\n",
       " 'After': 0.06666666666666667,\n",
       " 'registering': 0.06666666666666667,\n",
       " 'users': 0.2,\n",
       " 'create': 0.06666666666666667,\n",
       " 'profile': 0.06666666666666667,\n",
       " 'revealing': 0.06666666666666667,\n",
       " 'information': 0.06666666666666667,\n",
       " 'They': 0.06666666666666667,\n",
       " 'post': 0.06666666666666667,\n",
       " 'text': 0.06666666666666667,\n",
       " 'photos': 0.06666666666666667,\n",
       " 'multimedia': 0.06666666666666667,\n",
       " 'shared': 0.06666666666666667,\n",
       " 'agreed': 0.06666666666666667,\n",
       " '\"': 0.13333333333333333,\n",
       " 'friend': 0.06666666666666667,\n",
       " 'different': 0.06666666666666667,\n",
       " 'privacy': 0.06666666666666667,\n",
       " 'setting': 0.06666666666666667,\n",
       " 'reader': 0.06666666666666667,\n",
       " 'Users': 0.06666666666666667,\n",
       " 'use': 0.06666666666666667,\n",
       " 'embedded': 0.06666666666666667,\n",
       " 'apps': 0.06666666666666667,\n",
       " 'join': 0.06666666666666667,\n",
       " 'common': 0.06666666666666667,\n",
       " '-': 0.06666666666666667,\n",
       " 'interest': 0.06666666666666667,\n",
       " 'groups': 0.06666666666666667,\n",
       " 'buy': 0.06666666666666667,\n",
       " 'sell': 0.06666666666666667,\n",
       " 'items': 0.06666666666666667,\n",
       " 'services': 0.06666666666666667,\n",
       " 'Marketplace': 0.06666666666666667,\n",
       " 'receive': 0.06666666666666667,\n",
       " 'notifications': 0.06666666666666667,\n",
       " 'friends': 0.06666666666666667,\n",
       " \"'\": 0.06666666666666667,\n",
       " 'activities': 0.13333333333333333,\n",
       " 'pages': 0.06666666666666667,\n",
       " 'follow': 0.06666666666666667,\n",
       " 'claimed': 0.06666666666666667,\n",
       " '2.3': 0.06666666666666667,\n",
       " 'billion': 0.06666666666666667,\n",
       " 'monthly': 0.06666666666666667,\n",
       " 'active': 0.06666666666666667,\n",
       " 'December': 0.06666666666666667,\n",
       " '2018': 0.06666666666666667}"
      ]
     },
     "execution_count": 46,
     "metadata": {},
     "output_type": "execute_result"
    }
   ],
   "source": [
    "word_frequencies"
   ]
  },
  {
   "cell_type": "code",
   "execution_count": 47,
   "metadata": {},
   "outputs": [],
   "source": [
    "# Sentence score and ranking:\n",
    "sentence_list = [ sentence for sentence in docx.sents ]"
   ]
  },
  {
   "cell_type": "code",
   "execution_count": 48,
   "metadata": {},
   "outputs": [
    {
     "data": {
      "text/plain": [
       "[Facebook is an American online social media and social networking service based in Menlo Park, California and a flagship service of the namesake company Facebook,,\n",
       " Inc. It was founded by Mark Zuckerberg, along with fellow Harvard College students and roommates Eduardo Saverin, Andrew McCollum, Dustin Moskovitz and Chris Hughes.,\n",
       " Facebook can be accessed from devices with Internet connectivity, such as personal computers, tablets and smartphones.,\n",
       " After registering, users can create a profile revealing information about themselves.,\n",
       " They can post text, photos and multimedia which is shared with any other users that have agreed to be their \"friend\", or, with a different privacy setting, with any reader.,\n",
       " Users can also use various embedded apps, join common-interest groups, buy and sell items or services on Marketplace, and receive notifications of their Facebook friends' activities and activities of Facebook pages they follow.,\n",
       " Facebook claimed that it had more than 2.3 billion monthly active users as of December 2018.]"
      ]
     },
     "execution_count": 48,
     "metadata": {},
     "output_type": "execute_result"
    }
   ],
   "source": [
    "sentence_list"
   ]
  },
  {
   "cell_type": "code",
   "execution_count": 49,
   "metadata": {},
   "outputs": [],
   "source": [
    "# Sentence Score via comparrng each word with sentence\n",
    "sentence_scores = {}  \n",
    "for sent in sentence_list:  \n",
    "        for word in sent:\n",
    "            if word.text.lower() in word_frequencies.keys():\n",
    "                if len(sent.text.split(' ')) < 30:\n",
    "                    if sent not in sentence_scores.keys():\n",
    "                        sentence_scores[sent] = word_frequencies[word.text.lower()]\n",
    "                    else:\n",
    "                        sentence_scores[sent] += word_frequencies[word.text.lower()]"
   ]
  },
  {
   "cell_type": "code",
   "execution_count": 50,
   "metadata": {},
   "outputs": [
    {
     "data": {
      "text/plain": [
       "{Facebook is an American online social media and social networking service based in Menlo Park, California and a flagship service of the namesake company Facebook,: 3.0,\n",
       " Inc. It was founded by Mark Zuckerberg, along with fellow Harvard College students and roommates Eduardo Saverin, Andrew McCollum, Dustin Moskovitz and Chris Hughes.: 3.6666666666666665,\n",
       " Facebook can be accessed from devices with Internet connectivity, such as personal computers, tablets and smartphones.: 2.8666666666666667,\n",
       " After registering, users can create a profile revealing information about themselves.: 1.9333333333333331,\n",
       " Facebook claimed that it had more than 2.3 billion monthly active users as of December 2018.: 1.0}"
      ]
     },
     "execution_count": 50,
     "metadata": {},
     "output_type": "execute_result"
    }
   ],
   "source": [
    "sentence_scores"
   ]
  },
  {
   "cell_type": "code",
   "execution_count": 51,
   "metadata": {},
   "outputs": [],
   "source": [
    "#Top N sentences ith largest score:\n",
    "from heapq import nlargest"
   ]
  },
  {
   "cell_type": "code",
   "execution_count": 52,
   "metadata": {},
   "outputs": [],
   "source": [
    "# We can define here how many sentences we need to puul out. In this case i made it 4.\n",
    "summarized_sentences = nlargest(4, sentence_scores, key=sentence_scores.get)"
   ]
  },
  {
   "cell_type": "code",
   "execution_count": 53,
   "metadata": {},
   "outputs": [
    {
     "data": {
      "text/plain": [
       "[Inc. It was founded by Mark Zuckerberg, along with fellow Harvard College students and roommates Eduardo Saverin, Andrew McCollum, Dustin Moskovitz and Chris Hughes.,\n",
       " Facebook is an American online social media and social networking service based in Menlo Park, California and a flagship service of the namesake company Facebook,,\n",
       " Facebook can be accessed from devices with Internet connectivity, such as personal computers, tablets and smartphones.,\n",
       " After registering, users can create a profile revealing information about themselves.]"
      ]
     },
     "execution_count": 53,
     "metadata": {},
     "output_type": "execute_result"
    }
   ],
   "source": [
    "summarized_sentences"
   ]
  },
  {
   "cell_type": "code",
   "execution_count": null,
   "metadata": {},
   "outputs": [],
   "source": []
  }
 ],
 "metadata": {
  "kernelspec": {
   "display_name": "Python 3",
   "language": "python",
   "name": "python3"
  },
  "language_info": {
   "codemirror_mode": {
    "name": "ipython",
    "version": 3
   },
   "file_extension": ".py",
   "mimetype": "text/x-python",
   "name": "python",
   "nbconvert_exporter": "python",
   "pygments_lexer": "ipython3",
   "version": "3.7.7"
  }
 },
 "nbformat": 4,
 "nbformat_minor": 4
}
