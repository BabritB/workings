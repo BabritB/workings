{
 "cells": [
  {
   "cell_type": "code",
   "execution_count": 157,
   "metadata": {},
   "outputs": [],
   "source": [
    "import numpy as np\n",
    "import pandas as pd\n",
    "import json\n",
    "import string\n",
    "from random import randint"
   ]
  },
  {
   "cell_type": "code",
   "execution_count": 158,
   "metadata": {},
   "outputs": [],
   "source": [
    "f=open('data/word_time').read()"
   ]
  },
  {
   "cell_type": "code",
   "execution_count": 159,
   "metadata": {},
   "outputs": [],
   "source": [
    "data=json.loads(f)"
   ]
  },
  {
   "cell_type": "code",
   "execution_count": 160,
   "metadata": {},
   "outputs": [
    {
     "data": {
      "text/plain": [
       "dict_keys(['name', 'metadata', 'done', 'response'])"
      ]
     },
     "execution_count": 160,
     "metadata": {},
     "output_type": "execute_result"
    }
   ],
   "source": [
    "data.keys()"
   ]
  },
  {
   "cell_type": "code",
   "execution_count": 161,
   "metadata": {},
   "outputs": [
    {
     "data": {
      "text/plain": [
       "[{'startTime': '1.300s', 'endTime': '1.400s', 'word': 'Speech'},\n",
       " {'startTime': '1.400s', 'endTime': '1.600s', 'word': 'to'},\n",
       " {'startTime': '1.600s', 'endTime': '1.600s', 'word': 'Text.'},\n",
       " {'startTime': '1.600s', 'endTime': '1.900s', 'word': 'can'},\n",
       " {'startTime': '1.900s', 'endTime': '2.000s', 'word': 'use'},\n",
       " {'startTime': '2.000s', 'endTime': '2.200s', 'word': 'one.'}]"
      ]
     },
     "execution_count": 161,
     "metadata": {},
     "output_type": "execute_result"
    }
   ],
   "source": [
    "data['response']['results'][0]['alternatives'][0]['words']"
   ]
  },
  {
   "cell_type": "code",
   "execution_count": 162,
   "metadata": {},
   "outputs": [
    {
     "name": "stdout",
     "output_type": "stream",
     "text": [
      "RANDOM_ID: 5205 \t START_TIME: 1.300s \t END_TIME: 1.400s\n",
      "RANDOM_ID: 7370 \t START_TIME: 1.600s \t END_TIME: 1.600s\n",
      "RANDOM_ID: 6618 \t START_TIME: 1.600s \t END_TIME: 1.900s\n",
      "RANDOM_ID: 6645 \t START_TIME: 2.000s \t END_TIME: 2.200s\n"
     ]
    }
   ],
   "source": [
    "flag=0\n",
    "for alt in data['response']['results'][0]['alternatives']:\n",
    "    for item in alt['words']:\n",
    "        if flag == 0:\n",
    "            print(f\"RANDOM_ID: {randint(1000,9999)} \\t START_TIME: {item['startTime']} \\t END_TIME: {item['endTime']}\")\n",
    "        flag+=1\n",
    "        if item['word'].endswith('.'):\n",
    "            print(f\"RANDOM_ID: {randint(1000,9999)} \\t START_TIME: {item['startTime']} \\t END_TIME: {item['endTime']}\")\n",
    "            flag=0"
   ]
  },
  {
   "cell_type": "code",
   "execution_count": 163,
   "metadata": {},
   "outputs": [],
   "source": [
    "# Optionally if we want to have same set of ID for each sentence the can also use the random.seed() . Further if required"
   ]
  },
  {
   "cell_type": "code",
   "execution_count": 164,
   "metadata": {},
   "outputs": [],
   "source": [
    "final=open('data/final_format').read()"
   ]
  },
  {
   "cell_type": "code",
   "execution_count": 165,
   "metadata": {},
   "outputs": [],
   "source": [
    "all_list=final.split('\\n')"
   ]
  },
  {
   "cell_type": "code",
   "execution_count": 166,
   "metadata": {},
   "outputs": [
    {
     "data": {
      "text/plain": [
       "4118"
      ]
     },
     "execution_count": 166,
     "metadata": {},
     "output_type": "execute_result"
    }
   ],
   "source": [
    "len(all_list)"
   ]
  },
  {
   "cell_type": "code",
   "execution_count": 167,
   "metadata": {},
   "outputs": [],
   "source": [
    "strip_item=[]"
   ]
  },
  {
   "cell_type": "code",
   "execution_count": 168,
   "metadata": {},
   "outputs": [],
   "source": [
    "for item in all_list:\n",
    "    strip_item.append(item.strip())"
   ]
  },
  {
   "cell_type": "code",
   "execution_count": 169,
   "metadata": {},
   "outputs": [],
   "source": [
    "result_dict=dict()"
   ]
  },
  {
   "cell_type": "code",
   "execution_count": 170,
   "metadata": {},
   "outputs": [],
   "source": [
    "i=0\n",
    "sub_list=[]\n",
    "for item in strip_item:\n",
    "    if item.startswith('results {'):\n",
    "        if len(sub_list)>0:\n",
    "            result_dict[f\"Result {i}\"]=sub_list\n",
    "            sub_list=[]\n",
    "        i+=1\n",
    "        continue\n",
    "    sub_list.append(item)"
   ]
  },
  {
   "cell_type": "code",
   "execution_count": 171,
   "metadata": {},
   "outputs": [],
   "source": [
    "#result_dict"
   ]
  },
  {
   "cell_type": "code",
   "execution_count": 172,
   "metadata": {},
   "outputs": [],
   "source": [
    "resultant=dict()"
   ]
  },
  {
   "cell_type": "code",
   "execution_count": 173,
   "metadata": {},
   "outputs": [],
   "source": [
    "for result in result_dict.keys():\n",
    "    i=0\n",
    "    word_data=list()\n",
    "    word_dict=dict()\n",
    "    for item in result_dict[result]:\n",
    "        \n",
    "        if item.startswith('words') or item.startswith('alternatives {') or item.startswith('transcript:') or item.startswith('confidence:'):\n",
    "            continue\n",
    "        if not item.startswith('}'):\n",
    "            word_data.append(item.replace('\"','').replace('{','').strip())\n",
    "        if item.startswith('word:'):\n",
    "            word_dict[f\"Word {i}\"]=word_data\n",
    "            word_data=[]\n",
    "            i+=1\n",
    "    resultant[result]=word_dict\n",
    "        "
   ]
  },
  {
   "cell_type": "code",
   "execution_count": 174,
   "metadata": {},
   "outputs": [],
   "source": [
    "#resultant"
   ]
  },
  {
   "cell_type": "code",
   "execution_count": 175,
   "metadata": {},
   "outputs": [],
   "source": [
    "# Similarly we can do for each and every result in a loop from keys. Result 1, Result 2..... and so on..."
   ]
  },
  {
   "cell_type": "code",
   "execution_count": 189,
   "metadata": {},
   "outputs": [],
   "source": [
    "def has_num(s):\n",
    "    return any(i.isdigit() for i in s)\n",
    "def convert_time(lst):\n",
    "    time=lst[0].split(':')[1].strip()\n",
    "    time+='.'\n",
    "    if lst[1].startswith('nanos'):\n",
    "        time+=lst[1].split(':')[1].strip()\n",
    "    else:time+='0'\n",
    "    return time     "
   ]
  },
  {
   "cell_type": "code",
   "execution_count": 193,
   "metadata": {},
   "outputs": [
    {
     "name": "stdout",
     "output_type": "stream",
     "text": [
      "-----------------------\n",
      "RANDOM_ID: 2162\n",
      "STARTS : 44.0\n",
      "ENDS : 44.0\n",
      "-----------------------\n",
      "-----------------------\n",
      "RANDOM_ID: 1330\n",
      "STARTS : 45.900000000\n",
      "ENDS : 45.900000000\n",
      "-----------------------\n",
      "-----------------------\n",
      "RANDOM_ID: 7022\n",
      "STARTS : 46.200000000\n",
      "ENDS : 46.200000000\n",
      "-----------------------\n",
      "-----------------------\n",
      "RANDOM_ID: 4678\n",
      "STARTS : 51.100000000\n",
      "ENDS : 54.900000000\n",
      "-----------------------\n",
      "-----------------------\n",
      "RANDOM_ID: 4917\n",
      "STARTS : 68.0\n",
      "ENDS : 68.0\n",
      "-----------------------\n",
      "-----------------------\n",
      "RANDOM_ID: 7671\n",
      "STARTS : 69.100000000\n",
      "ENDS : 75.100000000\n",
      "-----------------------\n",
      "-----------------------\n",
      "RANDOM_ID: 5291\n",
      "STARTS : 76.400000000\n",
      "ENDS : 78.300000000\n",
      "-----------------------\n",
      "-----------------------\n",
      "RANDOM_ID: 7874\n",
      "STARTS : 78.700000000\n",
      "ENDS : 80.600000000\n",
      "-----------------------\n",
      "-----------------------\n",
      "RANDOM_ID: 8633\n",
      "STARTS : 83.900000000\n",
      "ENDS : 89.200000000\n",
      "-----------------------\n",
      "-----------------------\n",
      "RANDOM_ID: 4660\n",
      "STARTS : 89.400000000\n",
      "ENDS : 91.800000000\n",
      "-----------------------\n",
      "-----------------------\n",
      "RANDOM_ID: 6231\n",
      "STARTS : 92.700000000\n",
      "ENDS : 92.700000000\n",
      "-----------------------\n"
     ]
    }
   ],
   "source": [
    "i=0\n",
    "for startend in resultant['Result 3']:\n",
    "    word_list=resultant['Result 3'][startend]\n",
    "    word_val=word_list[-1].split(':')[1].strip()\n",
    "    if i==0:\n",
    "        print('-----------------------')\n",
    "        print(f\"RANDOM_ID: {randint(1000,9999)}\")\n",
    "        nn_list=[iter_item for iter_item in word_list if has_num(iter_item)]  \n",
    "        print(f\"STARTS : {convert_time(nn_list)}\")\n",
    "        i+=1\n",
    "    if word_val.endswith('.'):\n",
    "        nn_list=[iter_item for iter_item in word_list if has_num(iter_item)]\n",
    "        print(f\"ENDS : {convert_time(nn_list)}\")\n",
    "        print('-----------------------')\n",
    "        i=0  "
   ]
  },
  {
   "cell_type": "code",
   "execution_count": null,
   "metadata": {},
   "outputs": [],
   "source": []
  }
 ],
 "metadata": {
  "kernelspec": {
   "display_name": "Python 3",
   "language": "python",
   "name": "python3"
  },
  "language_info": {
   "codemirror_mode": {
    "name": "ipython",
    "version": 3
   },
   "file_extension": ".py",
   "mimetype": "text/x-python",
   "name": "python",
   "nbconvert_exporter": "python",
   "pygments_lexer": "ipython3",
   "version": "3.7.7"
  }
 },
 "nbformat": 4,
 "nbformat_minor": 4
}
