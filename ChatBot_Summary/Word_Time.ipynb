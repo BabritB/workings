{
 "cells": [
  {
   "cell_type": "code",
   "execution_count": 11,
   "metadata": {},
   "outputs": [],
   "source": [
    "import numpy as np\n",
    "import pandas as pd\n",
    "import json\n",
    "import string\n",
    "from random import randint"
   ]
  },
  {
   "cell_type": "code",
   "execution_count": 12,
   "metadata": {},
   "outputs": [],
   "source": [
    "f=open('data/word_time').read()"
   ]
  },
  {
   "cell_type": "code",
   "execution_count": 13,
   "metadata": {},
   "outputs": [],
   "source": [
    "data=json.loads(f)"
   ]
  },
  {
   "cell_type": "code",
   "execution_count": 14,
   "metadata": {},
   "outputs": [
    {
     "data": {
      "text/plain": [
       "dict_keys(['name', 'metadata', 'done', 'response'])"
      ]
     },
     "execution_count": 14,
     "metadata": {},
     "output_type": "execute_result"
    }
   ],
   "source": [
    "data.keys()"
   ]
  },
  {
   "cell_type": "code",
   "execution_count": 15,
   "metadata": {},
   "outputs": [
    {
     "data": {
      "text/plain": [
       "[{'startTime': '1.300s', 'endTime': '1.400s', 'word': 'Speech'},\n",
       " {'startTime': '1.400s', 'endTime': '1.600s', 'word': 'to'},\n",
       " {'startTime': '1.600s', 'endTime': '1.600s', 'word': 'Text.'},\n",
       " {'startTime': '1.600s', 'endTime': '1.900s', 'word': 'can'},\n",
       " {'startTime': '1.900s', 'endTime': '2.000s', 'word': 'use'},\n",
       " {'startTime': '2.000s', 'endTime': '2.200s', 'word': 'one.'}]"
      ]
     },
     "execution_count": 15,
     "metadata": {},
     "output_type": "execute_result"
    }
   ],
   "source": [
    "data['response']['results'][0]['alternatives'][0]['words']"
   ]
  },
  {
   "cell_type": "code",
   "execution_count": 18,
   "metadata": {},
   "outputs": [
    {
     "name": "stdout",
     "output_type": "stream",
     "text": [
      "RANDOM_ID: 9934 \t START_TIME: 1.300s \t END_TIME: 1.400s\n",
      "RANDOM_ID: 8122 \t START_TIME: 1.600s \t END_TIME: 1.600s\n",
      "RANDOM_ID: 2850 \t START_TIME: 1.600s \t END_TIME: 1.900s\n",
      "RANDOM_ID: 3791 \t START_TIME: 2.000s \t END_TIME: 2.200s\n"
     ]
    }
   ],
   "source": [
    "flag=0\n",
    "for alt in data['response']['results'][0]['alternatives']:\n",
    "    for item in alt['words']:\n",
    "        if flag == 0:\n",
    "            print(f\"RANDOM_ID: {randint(1000,9999)} \\t START_TIME: {item['startTime']} \\t END_TIME: {item['endTime']}\")\n",
    "        flag+=1\n",
    "        if item['word'].endswith('.'):\n",
    "            print(f\"RANDOM_ID: {randint(1000,9999)} \\t START_TIME: {item['startTime']} \\t END_TIME: {item['endTime']}\")\n",
    "            flag=0"
   ]
  },
  {
   "cell_type": "code",
   "execution_count": 17,
   "metadata": {},
   "outputs": [],
   "source": [
    "# Optionally if we want to have same set of ID for each sentence the can also use the random.seed() . Further if required"
   ]
  },
  {
   "cell_type": "code",
   "execution_count": null,
   "metadata": {},
   "outputs": [],
   "source": []
  }
 ],
 "metadata": {
  "kernelspec": {
   "display_name": "Python 3",
   "language": "python",
   "name": "python3"
  },
  "language_info": {
   "codemirror_mode": {
    "name": "ipython",
    "version": 3
   },
   "file_extension": ".py",
   "mimetype": "text/x-python",
   "name": "python",
   "nbconvert_exporter": "python",
   "pygments_lexer": "ipython3",
   "version": "3.7.7"
  }
 },
 "nbformat": 4,
 "nbformat_minor": 4
}
