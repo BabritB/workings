{
 "cells": [
  {
   "cell_type": "code",
   "execution_count": 117,
   "metadata": {},
   "outputs": [],
   "source": [
    "import numpy as np\n",
    "import pandas as pd\n",
    "import json\n",
    "import string\n",
    "from random import randint"
   ]
  },
  {
   "cell_type": "code",
   "execution_count": 118,
   "metadata": {},
   "outputs": [],
   "source": [
    "f=open('data/word_time').read()"
   ]
  },
  {
   "cell_type": "code",
   "execution_count": 119,
   "metadata": {},
   "outputs": [],
   "source": [
    "data=json.loads(f)"
   ]
  },
  {
   "cell_type": "code",
   "execution_count": 120,
   "metadata": {},
   "outputs": [
    {
     "data": {
      "text/plain": [
       "dict_keys(['name', 'metadata', 'done', 'response'])"
      ]
     },
     "execution_count": 120,
     "metadata": {},
     "output_type": "execute_result"
    }
   ],
   "source": [
    "data.keys()"
   ]
  },
  {
   "cell_type": "code",
   "execution_count": 121,
   "metadata": {},
   "outputs": [
    {
     "data": {
      "text/plain": [
       "[{'startTime': '1.300s', 'endTime': '1.400s', 'word': 'Speech'},\n",
       " {'startTime': '1.400s', 'endTime': '1.600s', 'word': 'to'},\n",
       " {'startTime': '1.600s', 'endTime': '1.600s', 'word': 'Text.'},\n",
       " {'startTime': '1.600s', 'endTime': '1.900s', 'word': 'can'},\n",
       " {'startTime': '1.900s', 'endTime': '2.000s', 'word': 'use'},\n",
       " {'startTime': '2.000s', 'endTime': '2.200s', 'word': 'one.'}]"
      ]
     },
     "execution_count": 121,
     "metadata": {},
     "output_type": "execute_result"
    }
   ],
   "source": [
    "data['response']['results'][0]['alternatives'][0]['words']"
   ]
  },
  {
   "cell_type": "code",
   "execution_count": 122,
   "metadata": {},
   "outputs": [
    {
     "name": "stdout",
     "output_type": "stream",
     "text": [
      "RANDOM_ID: 3821 \t START_TIME: 1.300s \t END_TIME: 1.400s\n",
      "RANDOM_ID: 3818 \t START_TIME: 1.600s \t END_TIME: 1.600s\n",
      "RANDOM_ID: 1322 \t START_TIME: 1.600s \t END_TIME: 1.900s\n",
      "RANDOM_ID: 9466 \t START_TIME: 2.000s \t END_TIME: 2.200s\n"
     ]
    }
   ],
   "source": [
    "flag=0\n",
    "for alt in data['response']['results'][0]['alternatives']:\n",
    "    for item in alt['words']:\n",
    "        if flag == 0:\n",
    "            print(f\"RANDOM_ID: {randint(1000,9999)} \\t START_TIME: {item['startTime']} \\t END_TIME: {item['endTime']}\")\n",
    "        flag+=1\n",
    "        if item['word'].endswith('.'):\n",
    "            print(f\"RANDOM_ID: {randint(1000,9999)} \\t START_TIME: {item['startTime']} \\t END_TIME: {item['endTime']}\")\n",
    "            flag=0"
   ]
  },
  {
   "cell_type": "code",
   "execution_count": 123,
   "metadata": {},
   "outputs": [],
   "source": [
    "# Optionally if we want to have same set of ID for each sentence the can also use the random.seed() . Further if required"
   ]
  },
  {
   "cell_type": "code",
   "execution_count": 124,
   "metadata": {},
   "outputs": [],
   "source": [
    "final=open('data/final_format').read()"
   ]
  },
  {
   "cell_type": "code",
   "execution_count": 125,
   "metadata": {},
   "outputs": [],
   "source": [
    "all_list=final.split('\\n')"
   ]
  },
  {
   "cell_type": "code",
   "execution_count": 126,
   "metadata": {},
   "outputs": [
    {
     "data": {
      "text/plain": [
       "4118"
      ]
     },
     "execution_count": 126,
     "metadata": {},
     "output_type": "execute_result"
    }
   ],
   "source": [
    "len(all_list)"
   ]
  },
  {
   "cell_type": "code",
   "execution_count": 127,
   "metadata": {},
   "outputs": [],
   "source": [
    "strip_item=[]"
   ]
  },
  {
   "cell_type": "code",
   "execution_count": 128,
   "metadata": {},
   "outputs": [],
   "source": [
    "for item in all_list:\n",
    "    strip_item.append(item.strip())"
   ]
  },
  {
   "cell_type": "code",
   "execution_count": 129,
   "metadata": {},
   "outputs": [],
   "source": [
    "result_dict=dict()"
   ]
  },
  {
   "cell_type": "code",
   "execution_count": 130,
   "metadata": {},
   "outputs": [],
   "source": [
    "i=0\n",
    "sub_list=[]\n",
    "for item in strip_item:\n",
    "    if item.startswith('results {'):\n",
    "        if len(sub_list)>0:\n",
    "            result_dict[f\"Result {i}\"]=sub_list\n",
    "            sub_list=[]\n",
    "        i+=1\n",
    "        continue\n",
    "    sub_list.append(item)"
   ]
  },
  {
   "cell_type": "code",
   "execution_count": 154,
   "metadata": {},
   "outputs": [],
   "source": [
    "#result_dict"
   ]
  },
  {
   "cell_type": "code",
   "execution_count": 153,
   "metadata": {},
   "outputs": [],
   "source": [
    "resultant=dict()"
   ]
  },
  {
   "cell_type": "code",
   "execution_count": 133,
   "metadata": {},
   "outputs": [],
   "source": [
    "for result in result_dict.keys():\n",
    "    i=0\n",
    "    word_data=list()\n",
    "    word_dict=dict()\n",
    "    for item in result_dict[result]:\n",
    "        \n",
    "        if item.startswith('words') or item.startswith('alternatives {') or item.startswith('transcript:') or item.startswith('confidence:'):\n",
    "            continue\n",
    "        if not item.startswith('}'):\n",
    "            word_data.append(item.replace('\"','').replace('{','').strip())\n",
    "        if item.startswith('word:'):\n",
    "            word_dict[f\"Word {i}\"]=word_data\n",
    "            word_data=[]\n",
    "            i+=1\n",
    "    resultant[result]=word_dict\n",
    "        "
   ]
  },
  {
   "cell_type": "code",
   "execution_count": 152,
   "metadata": {},
   "outputs": [],
   "source": [
    "#resultant"
   ]
  },
  {
   "cell_type": "code",
   "execution_count": 151,
   "metadata": {},
   "outputs": [],
   "source": [
    "# Similarly we can do for each and every result in a loop from keys. Result 1, Result 2..... and so on..."
   ]
  },
  {
   "cell_type": "code",
   "execution_count": 150,
   "metadata": {},
   "outputs": [
    {
     "name": "stdout",
     "output_type": "stream",
     "text": [
      "RANDOM_ID: 2052\n",
      "STARTS : ['start_time', 'seconds: 5', 'end_time', 'seconds: 5', 'nanos: 300000000', 'word: Hello,']\n",
      "ENDS : ['start_time', 'seconds: 6', 'nanos: 200000000', 'end_time', 'seconds: 6', 'nanos: 400000000', 'word: sir.']\n",
      "RANDOM_ID: 7513\n",
      "STARTS : ['start_time', 'seconds: 7', 'nanos: 600000000', 'end_time', 'seconds: 7', 'nanos: 900000000', 'word: Hello,']\n",
      "ENDS : ['start_time', 'seconds: 10', 'nanos: 400000000', 'end_time', 'seconds: 10', 'nanos: 700000000', 'word: evening.']\n",
      "RANDOM_ID: 2872\n",
      "STARTS : ['start_time', 'seconds: 12', 'nanos: 800000000', 'end_time', 'seconds: 12', 'nanos: 900000000', 'word: I']\n",
      "ENDS : ['start_time', 'seconds: 16', 'nanos: 400000000', 'end_time', 'seconds: 16', 'nanos: 700000000', 'word: today.']\n",
      "RANDOM_ID: 9357\n",
      "STARTS : ['start_time', 'seconds: 19', 'nanos: 200000000', 'end_time', 'seconds: 19', 'nanos: 200000000', 'word: I']\n",
      "ENDS : ['start_time', 'seconds: 25', 'nanos: 200000000', 'end_time', 'seconds: 25', 'nanos: 500000000', 'word: home.']\n",
      "RANDOM_ID: 4780\n",
      "STARTS : ['start_time', 'seconds: 26', 'nanos: 500000000', 'end_time', 'seconds: 26', 'nanos: 700000000', 'word: Okay,']\n",
      "ENDS : ['start_time', 'seconds: 29', 'nanos: 700000000', 'end_time', 'seconds: 30', 'nanos: 100000000', 'word: that.']\n"
     ]
    }
   ],
   "source": [
    "i=0\n",
    "for startend in resultant['Result 1']:\n",
    "    word_list=resultant['Result 1'][startend]\n",
    "    word_val=word_list[-1].split(':')[1].strip()\n",
    "    if i==0:\n",
    "        print(f\"RANDOM_ID: {randint(1000,9999)}\")\n",
    "        print(f\"STARTS : {word_list}\")\n",
    "        i+=1\n",
    "    if word_val.endswith('.'):\n",
    "        print(f\"ENDS : {word_list}\")\n",
    "        i=0  "
   ]
  },
  {
   "cell_type": "code",
   "execution_count": null,
   "metadata": {},
   "outputs": [],
   "source": []
  }
 ],
 "metadata": {
  "kernelspec": {
   "display_name": "Python 3",
   "language": "python",
   "name": "python3"
  },
  "language_info": {
   "codemirror_mode": {
    "name": "ipython",
    "version": 3
   },
   "file_extension": ".py",
   "mimetype": "text/x-python",
   "name": "python",
   "nbconvert_exporter": "python",
   "pygments_lexer": "ipython3",
   "version": "3.7.7"
  }
 },
 "nbformat": 4,
 "nbformat_minor": 4
}
