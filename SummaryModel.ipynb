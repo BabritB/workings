{
  "nbformat": 4,
  "nbformat_minor": 0,
  "metadata": {
    "colab": {
      "name": "SummaryModel.ipynb",
      "provenance": [],
      "authorship_tag": "ABX9TyP6lNe67QUUXH3b5XNTgA5N",
      "include_colab_link": true
    },
    "kernelspec": {
      "name": "python3",
      "display_name": "Python 3"
    },
    "accelerator": "GPU"
  },
  "cells": [
    {
      "cell_type": "markdown",
      "metadata": {
        "id": "view-in-github",
        "colab_type": "text"
      },
      "source": [
        "<a href=\"https://colab.research.google.com/github/BabritB/workings/blob/master/SummaryModel.ipynb\" target=\"_parent\"><img src=\"https://colab.research.google.com/assets/colab-badge.svg\" alt=\"Open In Colab\"/></a>"
      ]
    },
    {
      "cell_type": "code",
      "metadata": {
        "id": "kMJdOsz1a06M",
        "colab_type": "code",
        "colab": {
          "base_uri": "https://localhost:8080/",
          "height": 88
        },
        "outputId": "80a5b79f-8ddb-4741-8185-6a266aa6f31b"
      },
      "source": [
        "import numpy as np\n",
        "import pandas as pd\n",
        "import missingno as msno\n",
        "from nltk.corpus import stopwords\n",
        "import re\n",
        "import string\n",
        "import matplotlib.pyplot as plt\n",
        "import seaborn as sns\n",
        "import matplotlib.style as style\n",
        "from sklearn.model_selection import train_test_split\n",
        "import tensorflow as tf\n",
        "from keras.preprocessing.text import Tokenizer\n",
        "from keras.preprocessing.sequence import pad_sequences\n",
        "from keras.utils import to_categorical\n",
        "from keras.models import Sequential,Model\n",
        "from keras.layers import Dropout,Dense,Bidirectional,LSTM,TimeDistributed,RepeatVector,Input,Embedding,concatenate,Flatten\n",
        "from tensorflow.keras.callbacks import EarlyStopping\n",
        "from keras.optimizers import Adam\n",
        "from keras.losses import sparse_categorical_crossentropy"
      ],
      "execution_count": 1,
      "outputs": [
        {
          "output_type": "stream",
          "text": [
            "/usr/local/lib/python3.6/dist-packages/statsmodels/tools/_testing.py:19: FutureWarning: pandas.util.testing is deprecated. Use the functions in the public API at pandas.testing instead.\n",
            "  import pandas.util.testing as tm\n",
            "Using TensorFlow backend.\n"
          ],
          "name": "stderr"
        }
      ]
    },
    {
      "cell_type": "code",
      "metadata": {
        "id": "I7K6vCuqcUI-",
        "colab_type": "code",
        "colab": {}
      },
      "source": [
        "data=pd.read_csv('In_shots_Data.csv',encoding='latin1')\n",
        "# As we can cleary see there is no null values:\n",
        "# Now lets extract our Text Data and Summary Data:\n",
        "filter_data=data[['Short','Headline']]"
      ],
      "execution_count": 3,
      "outputs": []
    },
    {
      "cell_type": "code",
      "metadata": {
        "id": "Nujuaiyzcano",
        "colab_type": "code",
        "colab": {}
      },
      "source": [
        "contraction_mapping = {\"ain't\": \"is not\", \"aren't\": \"are not\",\"can't\": \"cannot\", \"'cause\": \"because\", \"could've\": \"could have\", \"couldn't\": \"could not\",\n",
        "\n",
        "                           \"didn't\": \"did not\", \"doesn't\": \"does not\", \"don't\": \"do not\", \"hadn't\": \"had not\", \"hasn't\": \"has not\", \"haven't\": \"have not\",\n",
        "\n",
        "                           \"he'd\": \"he would\",\"he'll\": \"he will\", \"he's\": \"he is\", \"how'd\": \"how did\", \"how'd'y\": \"how do you\", \"how'll\": \"how will\", \"how's\": \"how is\",\n",
        "\n",
        "                           \"I'd\": \"I would\", \"I'd've\": \"I would have\", \"I'll\": \"I will\", \"I'll've\": \"I will have\",\"I'm\": \"I am\", \"I've\": \"I have\", \"i'd\": \"i would\",\n",
        "\n",
        "                           \"i'd've\": \"i would have\", \"i'll\": \"i will\",  \"i'll've\": \"i will have\",\"i'm\": \"i am\", \"i've\": \"i have\", \"isn't\": \"is not\", \"it'd\": \"it would\",\n",
        "\n",
        "                           \"it'd've\": \"it would have\", \"it'll\": \"it will\", \"it'll've\": \"it will have\",\"it's\": \"it is\", \"let's\": \"let us\", \"ma'am\": \"madam\",\n",
        "\n",
        "                           \"mayn't\": \"may not\", \"might've\": \"might have\",\"mightn't\": \"might not\",\"mightn't've\": \"might not have\", \"must've\": \"must have\",\n",
        "\n",
        "                           \"mustn't\": \"must not\", \"mustn't've\": \"must not have\", \"needn't\": \"need not\", \"needn't've\": \"need not have\",\"o'clock\": \"of the clock\",\n",
        "\n",
        "                           \"oughtn't\": \"ought not\", \"oughtn't've\": \"ought not have\", \"shan't\": \"shall not\", \"sha'n't\": \"shall not\", \"shan't've\": \"shall not have\",\n",
        "\n",
        "                           \"she'd\": \"she would\", \"she'd've\": \"she would have\", \"she'll\": \"she will\", \"she'll've\": \"she will have\", \"she's\": \"she is\",\n",
        "\n",
        "                           \"should've\": \"should have\", \"shouldn't\": \"should not\", \"shouldn't've\": \"should not have\", \"so've\": \"so have\",\"so's\": \"so as\",\n",
        "\n",
        "                           \"this's\": \"this is\",\"that'd\": \"that would\", \"that'd've\": \"that would have\", \"that's\": \"that is\", \"there'd\": \"there would\",\n",
        "\n",
        "                           \"there'd've\": \"there would have\", \"there's\": \"there is\", \"here's\": \"here is\",\"they'd\": \"they would\", \"they'd've\": \"they would have\",\n",
        "\n",
        "                           \"they'll\": \"they will\", \"they'll've\": \"they will have\", \"they're\": \"they are\", \"they've\": \"they have\", \"to've\": \"to have\",\n",
        "\n",
        "                           \"wasn't\": \"was not\", \"we'd\": \"we would\", \"we'd've\": \"we would have\", \"we'll\": \"we will\", \"we'll've\": \"we will have\", \"we're\": \"we are\",\n",
        "\n",
        "                           \"we've\": \"we have\", \"weren't\": \"were not\", \"what'll\": \"what will\", \"what'll've\": \"what will have\", \"what're\": \"what are\",\n",
        "\n",
        "                           \"what's\": \"what is\", \"what've\": \"what have\", \"when's\": \"when is\", \"when've\": \"when have\", \"where'd\": \"where did\", \"where's\": \"where is\",\n",
        "\n",
        "                           \"where've\": \"where have\", \"who'll\": \"who will\", \"who'll've\": \"who will have\", \"who's\": \"who is\", \"who've\": \"who have\",\n",
        "\n",
        "                           \"why's\": \"why is\", \"why've\": \"why have\", \"will've\": \"will have\", \"won't\": \"will not\", \"won't've\": \"will not have\",\n",
        "\n",
        "                           \"would've\": \"would have\", \"wouldn't\": \"would not\", \"wouldn't've\": \"would not have\", \"y'all\": \"you all\",\n",
        "\n",
        "                           \"y'all'd\": \"you all would\",\"y'all'd've\": \"you all would have\",\"y'all're\": \"you all are\",\"y'all've\": \"you all have\",\n",
        "\n",
        "                           \"you'd\": \"you would\", \"you'd've\": \"you would have\", \"you'll\": \"you will\", \"you'll've\": \"you will have\",\n",
        "\n",
        "                           \"you're\": \"you are\", \"you've\": \"you have\"}"
      ],
      "execution_count": 4,
      "outputs": []
    },
    {
      "cell_type": "code",
      "metadata": {
        "id": "HITIptE6chlp",
        "colab_type": "code",
        "colab": {
          "base_uri": "https://localhost:8080/",
          "height": 51
        },
        "outputId": "a4e7058b-c3fd-494e-ff03-525870a179fa"
      },
      "source": [
        "import nltk\n",
        "nltk.download('stopwords')\n",
        "table=str.maketrans('','',string.punctuation)\n",
        "HTML_RE=re.compile(r'<[^>]+>')\n",
        "STOP_WORDS=stopwords.words('english')"
      ],
      "execution_count": 6,
      "outputs": [
        {
          "output_type": "stream",
          "text": [
            "[nltk_data] Downloading package stopwords to /root/nltk_data...\n",
            "[nltk_data]   Unzipping corpora/stopwords.zip.\n"
          ],
          "name": "stdout"
        }
      ]
    },
    {
      "cell_type": "code",
      "metadata": {
        "id": "8kjWED4Eckhl",
        "colab_type": "code",
        "colab": {}
      },
      "source": [
        "def text_cleaner(text):\n",
        "    new_text=HTML_RE.sub('',text)\n",
        "    new_text=' '.join([contraction_mapping[word] if word in contraction_mapping else word for word in new_text.split()])\n",
        "    new_text=' '.join([word.translate(table).lower().strip() for word in new_text.split() if word not in STOP_WORDS])\n",
        "    return new_text"
      ],
      "execution_count": 7,
      "outputs": []
    },
    {
      "cell_type": "code",
      "metadata": {
        "id": "sGpo0Hs3cuNb",
        "colab_type": "code",
        "colab": {
          "base_uri": "https://localhost:8080/",
          "height": 241
        },
        "outputId": "28692a09-10d3-41cf-ce9e-e77d9c5ed2ea"
      },
      "source": [
        "filter_data['Short']=filter_data['Short'].apply(lambda x:text_cleaner(x))\n",
        "filter_data['Headline']=filter_data['Headline'].apply(lambda x:text_cleaner(x))"
      ],
      "execution_count": 8,
      "outputs": [
        {
          "output_type": "stream",
          "text": [
            "/usr/local/lib/python3.6/dist-packages/ipykernel_launcher.py:1: SettingWithCopyWarning: \n",
            "A value is trying to be set on a copy of a slice from a DataFrame.\n",
            "Try using .loc[row_indexer,col_indexer] = value instead\n",
            "\n",
            "See the caveats in the documentation: https://pandas.pydata.org/pandas-docs/stable/user_guide/indexing.html#returning-a-view-versus-a-copy\n",
            "  \"\"\"Entry point for launching an IPython kernel.\n",
            "/usr/local/lib/python3.6/dist-packages/ipykernel_launcher.py:2: SettingWithCopyWarning: \n",
            "A value is trying to be set on a copy of a slice from a DataFrame.\n",
            "Try using .loc[row_indexer,col_indexer] = value instead\n",
            "\n",
            "See the caveats in the documentation: https://pandas.pydata.org/pandas-docs/stable/user_guide/indexing.html#returning-a-view-versus-a-copy\n",
            "  \n"
          ],
          "name": "stderr"
        }
      ]
    },
    {
      "cell_type": "code",
      "metadata": {
        "id": "imPxS2y8cyf4",
        "colab_type": "code",
        "colab": {
          "base_uri": "https://localhost:8080/",
          "height": 343
        },
        "outputId": "08fbe43d-8ddf-41eb-b6fe-ef6af48493c3"
      },
      "source": [
        "filter_data['Headline']=filter_data['Headline'].apply(lambda x:'sotok '+ x +' eotok')\n",
        "filter_data['Summary']=filter_data['Headline']\n",
        "filter_data['Text']=filter_data['Short']"
      ],
      "execution_count": 9,
      "outputs": [
        {
          "output_type": "stream",
          "text": [
            "/usr/local/lib/python3.6/dist-packages/ipykernel_launcher.py:1: SettingWithCopyWarning: \n",
            "A value is trying to be set on a copy of a slice from a DataFrame.\n",
            "Try using .loc[row_indexer,col_indexer] = value instead\n",
            "\n",
            "See the caveats in the documentation: https://pandas.pydata.org/pandas-docs/stable/user_guide/indexing.html#returning-a-view-versus-a-copy\n",
            "  \"\"\"Entry point for launching an IPython kernel.\n",
            "/usr/local/lib/python3.6/dist-packages/ipykernel_launcher.py:2: SettingWithCopyWarning: \n",
            "A value is trying to be set on a copy of a slice from a DataFrame.\n",
            "Try using .loc[row_indexer,col_indexer] = value instead\n",
            "\n",
            "See the caveats in the documentation: https://pandas.pydata.org/pandas-docs/stable/user_guide/indexing.html#returning-a-view-versus-a-copy\n",
            "  \n",
            "/usr/local/lib/python3.6/dist-packages/ipykernel_launcher.py:3: SettingWithCopyWarning: \n",
            "A value is trying to be set on a copy of a slice from a DataFrame.\n",
            "Try using .loc[row_indexer,col_indexer] = value instead\n",
            "\n",
            "See the caveats in the documentation: https://pandas.pydata.org/pandas-docs/stable/user_guide/indexing.html#returning-a-view-versus-a-copy\n",
            "  This is separate from the ipykernel package so we can avoid doing imports until\n"
          ],
          "name": "stderr"
        }
      ]
    },
    {
      "cell_type": "code",
      "metadata": {
        "id": "mWHJcXeKc7pR",
        "colab_type": "code",
        "colab": {}
      },
      "source": [
        "text_len=[]\n",
        "summ_len=[]\n",
        "for sent in filter_data['Text']:\n",
        "    text_len.append(len(sent.split()))\n",
        "for summ in filter_data['Summary']:\n",
        "    summ_len.append(len(summ.split()))"
      ],
      "execution_count": 10,
      "outputs": []
    },
    {
      "cell_type": "code",
      "metadata": {
        "id": "XYujg3sfc-0U",
        "colab_type": "code",
        "colab": {
          "base_uri": "https://localhost:8080/",
          "height": 321
        },
        "outputId": "99ec7247-8d7e-4305-e49b-a99ee37eabb2"
      },
      "source": [
        "length_df=pd.DataFrame({'Text':text_len,'Summary':summ_len})\n",
        "style.use('fivethirtyeight')\n",
        "sns.distplot(length_df['Text'])"
      ],
      "execution_count": 11,
      "outputs": [
        {
          "output_type": "execute_result",
          "data": {
            "text/plain": [
              "<matplotlib.axes._subplots.AxesSubplot at 0x7f45ca3a8198>"
            ]
          },
          "metadata": {
            "tags": []
          },
          "execution_count": 11
        },
        {
          "output_type": "display_data",
          "data": {
            "image/png": "[encoded data removed]",
            "text/plain": [
              "<Figure size 432x288 with 1 Axes>"
            ]
          },
          "metadata": {
            "tags": []
          }
        }
      ]
    },
    {
      "cell_type": "code",
      "metadata": {
        "id": "m9C4s_ZEdDtX",
        "colab_type": "code",
        "colab": {
          "base_uri": "https://localhost:8080/",
          "height": 321
        },
        "outputId": "a70f815b-8a18-4b49-bace-0bd41b7ece0c"
      },
      "source": [
        "style.use('fivethirtyeight')\n",
        "sns.distplot(length_df['Summary'])"
      ],
      "execution_count": 12,
      "outputs": [
        {
          "output_type": "execute_result",
          "data": {
            "text/plain": [
              "<matplotlib.axes._subplots.AxesSubplot at 0x7f45c8d92198>"
            ]
          },
          "metadata": {
            "tags": []
          },
          "execution_count": 12
        },
        {
          "output_type": "display_data",
          "data": {
            "image/png": "[encoded data removed]",
            "text/plain": [
              "<Figure size 432x288 with 1 Axes>"
            ]
          },
          "metadata": {
            "tags": []
          }
        }
      ]
    },
    {
      "cell_type": "code",
      "metadata": {
        "id": "F1m32AgTdGan",
        "colab_type": "code",
        "colab": {}
      },
      "source": [
        "max_len_text=50\n",
        "max_len_summ=14"
      ],
      "execution_count": 13,
      "outputs": []
    },
    {
      "cell_type": "code",
      "metadata": {
        "id": "PDRXkkfSdJcS",
        "colab_type": "code",
        "colab": {}
      },
      "source": [
        "#Split the data:\n",
        "X_train,X_test,y_train,y_test=train_test_split(filter_data['Text'][:500],filter_data['Summary'][:500],test_size=0.1,random_state=0)"
      ],
      "execution_count": 44,
      "outputs": []
    },
    {
      "cell_type": "code",
      "metadata": {
        "id": "FuA5a-F0dLg6",
        "colab_type": "code",
        "colab": {}
      },
      "source": [
        "text_tokenizer=Tokenizer()\n",
        "text_tokenizer.fit_on_texts(list(X_train))\n",
        "X_train_seq=text_tokenizer.texts_to_sequences(X_train)\n",
        "X_test_seq=text_tokenizer.texts_to_sequences(X_test)\n",
        "X_train_pad=pad_sequences(X_train_seq,maxlen=max_len_text,padding='post')\n",
        "X_test_pad=pad_sequences(X_test_seq,maxlen=max_len_text,padding='post')"
      ],
      "execution_count": 45,
      "outputs": []
    },
    {
      "cell_type": "code",
      "metadata": {
        "id": "dvDzv7VddNOc",
        "colab_type": "code",
        "colab": {}
      },
      "source": [
        "summ_tokenizer=Tokenizer()\n",
        "summ_tokenizer.fit_on_texts(list(y_train))\n",
        "y_train_seq=summ_tokenizer.texts_to_sequences(y_train)\n",
        "y_test_seq=summ_tokenizer.texts_to_sequences(y_test)\n",
        "y_train_pad=pad_sequences(y_train_seq,maxlen=max_len_summ,padding='post')\n",
        "y_test_pad=pad_sequences(y_test_seq,maxlen=max_len_summ,padding='post')"
      ],
      "execution_count": 46,
      "outputs": []
    },
    {
      "cell_type": "code",
      "metadata": {
        "id": "Iq_ViP9rdPSP",
        "colab_type": "code",
        "colab": {}
      },
      "source": [
        "text_vocab_size = len(text_tokenizer.word_index)\n",
        "summary_vocab_size = len(summ_tokenizer.word_index)\n",
        "encoder_input_data = X_train_pad\n",
        "decoder_input_data = y_train_pad.reshape(y_train_pad.shape[0],y_train_pad.shape[1],1)[:, :-1]\n",
        "decoder_output_data = y_train_pad.reshape(y_train_pad.shape[0],y_train_pad.shape[1],1)[:, 1:]"
      ],
      "execution_count": 47,
      "outputs": []
    },
    {
      "cell_type": "code",
      "metadata": {
        "id": "oVF7R_Nndes-",
        "colab_type": "code",
        "colab": {
          "base_uri": "https://localhost:8080/",
          "height": 54
        },
        "outputId": "da1876b4-e062-4ad1-d16d-3163decf1e14"
      },
      "source": [
        "# 1. Define Encoder\n",
        "input_seq_encoder = Input(shape = (None, ),name = \"encoder_input\")\n",
        "embed_dim = 200\n",
        "embedded_seq_encoder = Embedding(input_dim = text_vocab_size, output_dim = embed_dim)(input_seq_encoder)\n",
        "encoder_lstm = LSTM(units = 256,activation = 'relu',return_sequences = False,return_state = True,name = \"encoder_LSTM\")\n",
        "_, last_hidden_encoder, last_cell_encoder = encoder_lstm(embedded_seq_encoder)\n",
        "\n",
        "# 2. Define Decoder\n",
        "input_seq_decoder = Input(shape = (None,1),name = \"decoder_input\")\n",
        "decoder_lstm = LSTM(units = 256,activation = 'relu',return_sequences = True,return_state = True,name = \"decoder_LSTM\")\n",
        "all_hidden_decoder, _, _ = decoder_lstm(input_seq_decoder, initial_state = [last_hidden_encoder, last_cell_encoder])\n",
        "decoder_dense = Dense(summary_vocab_size,   # NOT TIMEDISTRIBUTED (NOT RECURSIVE)\n",
        "                      activation = 'softmax',\n",
        "                      name = \"decoder_dense\")\n",
        "logits = decoder_dense(all_hidden_decoder)\n",
        "\n",
        "# 3. Define Model\n",
        "final_rnn_model = Model(input = [input_seq_encoder, input_seq_decoder],output = logits)\n",
        "#optimizer='rmsprop', loss='sparse_categorical_crossentropy'\n",
        "final_rnn_model.compile(loss = sparse_categorical_crossentropy,optimizer = 'rmsprop',metrics = ['accuracy'])"
      ],
      "execution_count": 48,
      "outputs": [
        {
          "output_type": "stream",
          "text": [
            "/usr/local/lib/python3.6/dist-packages/ipykernel_launcher.py:18: UserWarning: Update your `Model` call to the Keras 2 API: `Model(inputs=[<tf.Tenso..., outputs=Tensor(\"de...)`\n"
          ],
          "name": "stderr"
        }
      ]
    },
    {
      "cell_type": "code",
      "metadata": {
        "id": "Ze3XV8sbdgIt",
        "colab_type": "code",
        "colab": {
          "base_uri": "https://localhost:8080/",
          "height": 391
        },
        "outputId": "e3076bb2-f568-4655-971b-ddcbcc8d4524"
      },
      "source": [
        "final_rnn_model.summary()"
      ],
      "execution_count": 49,
      "outputs": [
        {
          "output_type": "stream",
          "text": [
            "Model: \"model_6\"\n",
            "__________________________________________________________________________________________________\n",
            "Layer (type)                    Output Shape         Param #     Connected to                     \n",
            "==================================================================================================\n",
            "encoder_input (InputLayer)      (None, None)         0                                            \n",
            "__________________________________________________________________________________________________\n",
            "embedding_6 (Embedding)         (None, None, 200)    1330200     encoder_input[0][0]              \n",
            "__________________________________________________________________________________________________\n",
            "decoder_input (InputLayer)      (None, None, 1)      0                                            \n",
            "__________________________________________________________________________________________________\n",
            "encoder_LSTM (LSTM)             [(None, 256), (None, 467968      embedding_6[0][0]                \n",
            "__________________________________________________________________________________________________\n",
            "decoder_LSTM (LSTM)             [(None, None, 256),  264192      decoder_input[0][0]              \n",
            "                                                                 encoder_LSTM[0][1]               \n",
            "                                                                 encoder_LSTM[0][2]               \n",
            "__________________________________________________________________________________________________\n",
            "decoder_dense (Dense)           (None, None, 2123)   545611      decoder_LSTM[0][0]               \n",
            "==================================================================================================\n",
            "Total params: 2,607,971\n",
            "Trainable params: 2,607,971\n",
            "Non-trainable params: 0\n",
            "__________________________________________________________________________________________________\n"
          ],
          "name": "stdout"
        }
      ]
    },
    {
      "cell_type": "code",
      "metadata": {
        "id": "1ZzrgCVgdj2p",
        "colab_type": "code",
        "colab": {
          "base_uri": "https://localhost:8080/",
          "height": 1000
        },
        "outputId": "90f3c708-52f2-42ed-8685-d74761e375ec"
      },
      "source": [
        "# 4. Fit the Model\n",
        "history=final_rnn_model.fit([encoder_input_data, decoder_input_data],decoder_output_data,batch_size = 32,epochs = 100,\n",
        "                    validation_split = 0.2)"
      ],
      "execution_count": 51,
      "outputs": [
        {
          "output_type": "stream",
          "text": [
            "Train on 360 samples, validate on 90 samples\n",
            "Epoch 1/100\n",
            "360/360 [==============================] - 2s 6ms/step - loss: 6.6606 - accuracy: 0.4835 - val_loss: nan - val_accuracy: 0.4248\n",
            "Epoch 2/100\n",
            "360/360 [==============================] - 2s 6ms/step - loss: 6.6490 - accuracy: 0.4850 - val_loss: nan - val_accuracy: 0.4248\n",
            "Epoch 3/100\n",
            "360/360 [==============================] - 2s 6ms/step - loss: 6.6273 - accuracy: 0.4904 - val_loss: nan - val_accuracy: 0.4111\n",
            "Epoch 4/100\n",
            "360/360 [==============================] - 2s 6ms/step - loss: 6.6454 - accuracy: 0.4857 - val_loss: nan - val_accuracy: 0.4299\n",
            "Epoch 5/100\n",
            "360/360 [==============================] - 2s 6ms/step - loss: 6.6157 - accuracy: 0.4912 - val_loss: nan - val_accuracy: 0.4265\n",
            "Epoch 6/100\n",
            "360/360 [==============================] - 2s 6ms/step - loss: 6.6039 - accuracy: 0.4923 - val_loss: nan - val_accuracy: 0.4188\n",
            "Epoch 7/100\n",
            "360/360 [==============================] - 2s 6ms/step - loss: 6.5663 - accuracy: 0.5026 - val_loss: nan - val_accuracy: 0.4214\n",
            "Epoch 8/100\n",
            "360/360 [==============================] - 2s 6ms/step - loss: 6.5483 - accuracy: 0.4998 - val_loss: nan - val_accuracy: 0.4248\n",
            "Epoch 9/100\n",
            "360/360 [==============================] - 2s 6ms/step - loss: 6.5236 - accuracy: 0.5073 - val_loss: nan - val_accuracy: 0.4248\n",
            "Epoch 10/100\n",
            "360/360 [==============================] - 2s 6ms/step - loss: 6.5341 - accuracy: 0.5060 - val_loss: nan - val_accuracy: 0.3949\n",
            "Epoch 11/100\n",
            "360/360 [==============================] - 2s 6ms/step - loss: 6.5418 - accuracy: 0.5006 - val_loss: nan - val_accuracy: 0.3855\n",
            "Epoch 12/100\n",
            "360/360 [==============================] - 2s 6ms/step - loss: 6.4908 - accuracy: 0.5107 - val_loss: nan - val_accuracy: 0.4222\n",
            "Epoch 13/100\n",
            "360/360 [==============================] - 2s 6ms/step - loss: 6.4841 - accuracy: 0.5096 - val_loss: nan - val_accuracy: 0.4282\n",
            "Epoch 14/100\n",
            "360/360 [==============================] - 2s 6ms/step - loss: 6.4612 - accuracy: 0.5177 - val_loss: nan - val_accuracy: 0.4308\n",
            "Epoch 15/100\n",
            "360/360 [==============================] - 2s 6ms/step - loss: 6.4506 - accuracy: 0.5182 - val_loss: nan - val_accuracy: 0.4299\n",
            "Epoch 16/100\n",
            "360/360 [==============================] - 2s 6ms/step - loss: 6.4622 - accuracy: 0.5218 - val_loss: nan - val_accuracy: 0.4214\n",
            "Epoch 17/100\n",
            "360/360 [==============================] - 2s 6ms/step - loss: 6.4788 - accuracy: 0.5137 - val_loss: nan - val_accuracy: 0.4239\n",
            "Epoch 18/100\n",
            "360/360 [==============================] - 2s 6ms/step - loss: 6.4841 - accuracy: 0.5165 - val_loss: nan - val_accuracy: 0.4282\n",
            "Epoch 19/100\n",
            "360/360 [==============================] - 2s 6ms/step - loss: 6.4118 - accuracy: 0.5308 - val_loss: nan - val_accuracy: 0.4291\n",
            "Epoch 20/100\n",
            "360/360 [==============================] - 2s 6ms/step - loss: 6.4396 - accuracy: 0.5199 - val_loss: nan - val_accuracy: 0.3889\n",
            "Epoch 21/100\n",
            "360/360 [==============================] - 2s 6ms/step - loss: 6.4285 - accuracy: 0.5218 - val_loss: nan - val_accuracy: 0.4248\n",
            "Epoch 22/100\n",
            "360/360 [==============================] - 2s 6ms/step - loss: 6.3956 - accuracy: 0.5312 - val_loss: nan - val_accuracy: 0.4291\n",
            "Epoch 23/100\n",
            "360/360 [==============================] - 2s 6ms/step - loss: 6.3839 - accuracy: 0.5335 - val_loss: nan - val_accuracy: 0.4299\n",
            "Epoch 24/100\n",
            "360/360 [==============================] - 2s 6ms/step - loss: 6.4851 - accuracy: 0.5175 - val_loss: nan - val_accuracy: 0.4308\n",
            "Epoch 25/100\n",
            "360/360 [==============================] - 2s 6ms/step - loss: 6.3480 - accuracy: 0.5442 - val_loss: nan - val_accuracy: 0.4231\n",
            "Epoch 26/100\n",
            "360/360 [==============================] - 2s 6ms/step - loss: 6.3596 - accuracy: 0.5378 - val_loss: nan - val_accuracy: 0.4316\n",
            "Epoch 27/100\n",
            "360/360 [==============================] - 2s 6ms/step - loss: 6.3527 - accuracy: 0.5423 - val_loss: nan - val_accuracy: 0.3966\n",
            "Epoch 28/100\n",
            "360/360 [==============================] - 2s 6ms/step - loss: 6.3662 - accuracy: 0.5374 - val_loss: nan - val_accuracy: 0.4299\n",
            "Epoch 29/100\n",
            "360/360 [==============================] - 2s 6ms/step - loss: 6.3668 - accuracy: 0.5415 - val_loss: nan - val_accuracy: 0.4359\n",
            "Epoch 30/100\n",
            "360/360 [==============================] - 2s 6ms/step - loss: 6.3553 - accuracy: 0.5415 - val_loss: nan - val_accuracy: 0.4248\n",
            "Epoch 31/100\n",
            "360/360 [==============================] - 2s 6ms/step - loss: 6.3365 - accuracy: 0.5483 - val_loss: nan - val_accuracy: 0.4308\n",
            "Epoch 32/100\n",
            "360/360 [==============================] - 2s 6ms/step - loss: 6.3111 - accuracy: 0.5536 - val_loss: nan - val_accuracy: 0.4248\n",
            "Epoch 33/100\n",
            "360/360 [==============================] - 2s 6ms/step - loss: 6.3375 - accuracy: 0.5476 - val_loss: nan - val_accuracy: 0.4359\n",
            "Epoch 34/100\n",
            "360/360 [==============================] - 2s 6ms/step - loss: 6.3367 - accuracy: 0.5457 - val_loss: nan - val_accuracy: 0.4265\n",
            "Epoch 35/100\n",
            "360/360 [==============================] - 2s 6ms/step - loss: 6.2989 - accuracy: 0.5560 - val_loss: nan - val_accuracy: 0.4376\n",
            "Epoch 36/100\n",
            "360/360 [==============================] - 2s 6ms/step - loss: 6.2912 - accuracy: 0.5588 - val_loss: nan - val_accuracy: 0.4308\n",
            "Epoch 37/100\n",
            "360/360 [==============================] - 2s 6ms/step - loss: 6.2987 - accuracy: 0.5551 - val_loss: nan - val_accuracy: 0.4342\n",
            "Epoch 38/100\n",
            "360/360 [==============================] - 2s 6ms/step - loss: 6.2763 - accuracy: 0.5630 - val_loss: nan - val_accuracy: 0.4162\n",
            "Epoch 39/100\n",
            "360/360 [==============================] - 2s 6ms/step - loss: 6.3197 - accuracy: 0.5500 - val_loss: nan - val_accuracy: 0.4291\n",
            "Epoch 40/100\n",
            "360/360 [==============================] - 2s 6ms/step - loss: 6.2823 - accuracy: 0.5630 - val_loss: nan - val_accuracy: 0.4231\n",
            "Epoch 41/100\n",
            "360/360 [==============================] - 2s 6ms/step - loss: 6.2797 - accuracy: 0.5635 - val_loss: nan - val_accuracy: 0.4308\n",
            "Epoch 42/100\n",
            "360/360 [==============================] - 2s 6ms/step - loss: 6.2651 - accuracy: 0.5658 - val_loss: nan - val_accuracy: 0.4359\n",
            "Epoch 43/100\n",
            "360/360 [==============================] - 2s 6ms/step - loss: 6.3265 - accuracy: 0.5491 - val_loss: nan - val_accuracy: 0.4274\n",
            "Epoch 44/100\n",
            "360/360 [==============================] - 2s 6ms/step - loss: 6.2728 - accuracy: 0.5720 - val_loss: nan - val_accuracy: 0.4077\n",
            "Epoch 45/100\n",
            "360/360 [==============================] - 2s 6ms/step - loss: 7.4867 - accuracy: 0.4942 - val_loss: nan - val_accuracy: 0.3667\n",
            "Epoch 46/100\n",
            "360/360 [==============================] - 2s 6ms/step - loss: 9.2130 - accuracy: 0.3989 - val_loss: nan - val_accuracy: 0.3761\n",
            "Epoch 47/100\n",
            "360/360 [==============================] - 2s 6ms/step - loss: 8.8398 - accuracy: 0.4220 - val_loss: nan - val_accuracy: 0.3692\n",
            "Epoch 48/100\n",
            "360/360 [==============================] - 2s 6ms/step - loss: 8.7744 - accuracy: 0.4342 - val_loss: nan - val_accuracy: 0.3667\n",
            "Epoch 49/100\n",
            "360/360 [==============================] - 2s 6ms/step - loss: 8.7657 - accuracy: 0.4393 - val_loss: nan - val_accuracy: 0.3650\n",
            "Epoch 50/100\n",
            "360/360 [==============================] - 2s 6ms/step - loss: 8.8207 - accuracy: 0.4348 - val_loss: nan - val_accuracy: 0.3769\n",
            "Epoch 51/100\n",
            "360/360 [==============================] - 2s 6ms/step - loss: 8.4346 - accuracy: 0.4511 - val_loss: nan - val_accuracy: 0.4077\n",
            "Epoch 52/100\n",
            "360/360 [==============================] - 2s 6ms/step - loss: 8.2260 - accuracy: 0.4630 - val_loss: nan - val_accuracy: 0.4043\n",
            "Epoch 53/100\n",
            "360/360 [==============================] - 2s 6ms/step - loss: 7.7630 - accuracy: 0.4703 - val_loss: nan - val_accuracy: 0.4342\n",
            "Epoch 54/100\n",
            "360/360 [==============================] - 2s 6ms/step - loss: 7.1321 - accuracy: 0.4857 - val_loss: nan - val_accuracy: 0.4222\n",
            "Epoch 55/100\n",
            "360/360 [==============================] - 2s 6ms/step - loss: 6.9374 - accuracy: 0.5115 - val_loss: nan - val_accuracy: 0.4308\n",
            "Epoch 56/100\n",
            "360/360 [==============================] - 2s 6ms/step - loss: 6.7157 - accuracy: 0.5244 - val_loss: nan - val_accuracy: 0.4350\n",
            "Epoch 57/100\n",
            "360/360 [==============================] - 2s 6ms/step - loss: 6.4647 - accuracy: 0.5444 - val_loss: nan - val_accuracy: 0.4325\n",
            "Epoch 58/100\n",
            "360/360 [==============================] - 2s 6ms/step - loss: 6.3403 - accuracy: 0.5583 - val_loss: nan - val_accuracy: 0.4308\n",
            "Epoch 59/100\n",
            "360/360 [==============================] - 2s 6ms/step - loss: 6.2771 - accuracy: 0.5669 - val_loss: nan - val_accuracy: 0.4299\n",
            "Epoch 60/100\n",
            "360/360 [==============================] - 2s 6ms/step - loss: 6.2763 - accuracy: 0.5667 - val_loss: nan - val_accuracy: 0.4214\n",
            "Epoch 61/100\n",
            "360/360 [==============================] - 2s 6ms/step - loss: 6.2988 - accuracy: 0.5613 - val_loss: nan - val_accuracy: 0.4308\n",
            "Epoch 62/100\n",
            "360/360 [==============================] - 2s 6ms/step - loss: 6.3167 - accuracy: 0.5624 - val_loss: nan - val_accuracy: 0.4274\n",
            "Epoch 63/100\n",
            "360/360 [==============================] - 2s 6ms/step - loss: 6.3263 - accuracy: 0.5677 - val_loss: nan - val_accuracy: 0.4205\n",
            "Epoch 64/100\n",
            "360/360 [==============================] - 2s 6ms/step - loss: 6.2354 - accuracy: 0.5786 - val_loss: nan - val_accuracy: 0.4214\n",
            "Epoch 65/100\n",
            "360/360 [==============================] - 2s 6ms/step - loss: 6.2328 - accuracy: 0.5803 - val_loss: nan - val_accuracy: 0.4299\n",
            "Epoch 66/100\n",
            "360/360 [==============================] - 2s 6ms/step - loss: 6.2661 - accuracy: 0.5697 - val_loss: nan - val_accuracy: 0.4274\n",
            "Epoch 67/100\n",
            "360/360 [==============================] - 2s 6ms/step - loss: 6.2317 - accuracy: 0.5778 - val_loss: nan - val_accuracy: 0.4291\n",
            "Epoch 68/100\n",
            "360/360 [==============================] - 2s 6ms/step - loss: 6.2374 - accuracy: 0.5756 - val_loss: nan - val_accuracy: 0.4299\n",
            "Epoch 69/100\n",
            "360/360 [==============================] - 2s 6ms/step - loss: 6.6504 - accuracy: 0.5545 - val_loss: nan - val_accuracy: 0.4137\n",
            "Epoch 70/100\n",
            "360/360 [==============================] - 2s 6ms/step - loss: 7.8440 - accuracy: 0.4786 - val_loss: nan - val_accuracy: 0.4009\n",
            "Epoch 71/100\n",
            "360/360 [==============================] - 2s 6ms/step - loss: 7.9670 - accuracy: 0.4729 - val_loss: nan - val_accuracy: 0.4222\n",
            "Epoch 72/100\n",
            "360/360 [==============================] - 2s 6ms/step - loss: 7.6818 - accuracy: 0.4799 - val_loss: nan - val_accuracy: 0.4222\n",
            "Epoch 73/100\n",
            "360/360 [==============================] - 2s 6ms/step - loss: 7.1829 - accuracy: 0.5019 - val_loss: nan - val_accuracy: 0.4248\n",
            "Epoch 74/100\n",
            "360/360 [==============================] - 2s 6ms/step - loss: 6.8391 - accuracy: 0.5254 - val_loss: nan - val_accuracy: 0.4239\n",
            "Epoch 75/100\n",
            "360/360 [==============================] - 2s 6ms/step - loss: 6.7767 - accuracy: 0.5402 - val_loss: nan - val_accuracy: 0.4222\n",
            "Epoch 76/100\n",
            "360/360 [==============================] - 2s 6ms/step - loss: 6.6322 - accuracy: 0.5515 - val_loss: nan - val_accuracy: 0.4282\n",
            "Epoch 77/100\n",
            "360/360 [==============================] - 2s 6ms/step - loss: 6.5270 - accuracy: 0.5447 - val_loss: nan - val_accuracy: 0.4265\n",
            "Epoch 78/100\n",
            "360/360 [==============================] - 2s 6ms/step - loss: 6.3946 - accuracy: 0.5673 - val_loss: nan - val_accuracy: 0.4282\n",
            "Epoch 79/100\n",
            "360/360 [==============================] - 2s 6ms/step - loss: 6.5759 - accuracy: 0.5511 - val_loss: nan - val_accuracy: 0.4274\n",
            "Epoch 80/100\n",
            "360/360 [==============================] - 2s 6ms/step - loss: 6.3316 - accuracy: 0.5707 - val_loss: nan - val_accuracy: 0.4248\n",
            "Epoch 81/100\n",
            "360/360 [==============================] - 2s 6ms/step - loss: 6.2973 - accuracy: 0.5756 - val_loss: nan - val_accuracy: 0.4231\n",
            "Epoch 82/100\n",
            "360/360 [==============================] - 2s 6ms/step - loss: 6.3027 - accuracy: 0.5697 - val_loss: nan - val_accuracy: 0.4316\n",
            "Epoch 83/100\n",
            "360/360 [==============================] - 2s 6ms/step - loss: 6.3209 - accuracy: 0.5618 - val_loss: nan - val_accuracy: 0.4350\n",
            "Epoch 84/100\n",
            "360/360 [==============================] - 2s 6ms/step - loss: 6.2380 - accuracy: 0.5859 - val_loss: nan - val_accuracy: 0.4308\n",
            "Epoch 85/100\n",
            "360/360 [==============================] - 2s 6ms/step - loss: 6.2623 - accuracy: 0.5801 - val_loss: nan - val_accuracy: 0.4325\n",
            "Epoch 86/100\n",
            "360/360 [==============================] - 2s 6ms/step - loss: 6.9625 - accuracy: 0.5325 - val_loss: nan - val_accuracy: 0.4060\n",
            "Epoch 87/100\n",
            "360/360 [==============================] - 2s 6ms/step - loss: 6.5149 - accuracy: 0.5395 - val_loss: nan - val_accuracy: 0.4274\n",
            "Epoch 88/100\n",
            "360/360 [==============================] - 2s 6ms/step - loss: 6.2990 - accuracy: 0.5776 - val_loss: nan - val_accuracy: 0.4222\n",
            "Epoch 89/100\n",
            "360/360 [==============================] - 2s 6ms/step - loss: 6.3747 - accuracy: 0.5759 - val_loss: nan - val_accuracy: 0.4308\n",
            "Epoch 90/100\n",
            "360/360 [==============================] - 2s 6ms/step - loss: 6.2592 - accuracy: 0.5902 - val_loss: nan - val_accuracy: 0.4291\n",
            "Epoch 91/100\n",
            "360/360 [==============================] - 2s 6ms/step - loss: 6.5165 - accuracy: 0.5650 - val_loss: nan - val_accuracy: 0.4239\n",
            "Epoch 92/100\n",
            "360/360 [==============================] - 2s 6ms/step - loss: 6.7006 - accuracy: 0.5385 - val_loss: nan - val_accuracy: 0.4316\n",
            "Epoch 93/100\n",
            "360/360 [==============================] - 2s 6ms/step - loss: 6.4114 - accuracy: 0.5609 - val_loss: nan - val_accuracy: 0.4316\n",
            "Epoch 94/100\n",
            "360/360 [==============================] - 2s 6ms/step - loss: 6.3855 - accuracy: 0.5752 - val_loss: nan - val_accuracy: 0.4239\n",
            "Epoch 95/100\n",
            "360/360 [==============================] - 2s 6ms/step - loss: 6.3806 - accuracy: 0.5622 - val_loss: nan - val_accuracy: 0.4265\n",
            "Epoch 96/100\n",
            "360/360 [==============================] - 2s 6ms/step - loss: 6.2942 - accuracy: 0.5780 - val_loss: nan - val_accuracy: 0.4265\n",
            "Epoch 97/100\n",
            "360/360 [==============================] - 2s 6ms/step - loss: 6.2242 - accuracy: 0.5949 - val_loss: nan - val_accuracy: 0.4282\n",
            "Epoch 98/100\n",
            "360/360 [==============================] - 2s 6ms/step - loss: 6.1921 - accuracy: 0.6017 - val_loss: nan - val_accuracy: 0.4274\n",
            "Epoch 99/100\n",
            "360/360 [==============================] - 2s 6ms/step - loss: 6.1880 - accuracy: 0.6036 - val_loss: nan - val_accuracy: 0.4291\n",
            "Epoch 100/100\n",
            "360/360 [==============================] - 2s 6ms/step - loss: 6.2178 - accuracy: 0.5959 - val_loss: nan - val_accuracy: 0.4274\n"
          ],
          "name": "stdout"
        }
      ]
    },
    {
      "cell_type": "code",
      "metadata": {
        "id": "fLh-oZdQdnJW",
        "colab_type": "code",
        "colab": {}
      },
      "source": [
        "# Inference Model Need to Prepare:"
      ],
      "execution_count": 52,
      "outputs": []
    },
    {
      "cell_type": "code",
      "metadata": {
        "id": "ys_1wUI9jEo2",
        "colab_type": "code",
        "colab": {}
      },
      "source": [
        ""
      ],
      "execution_count": null,
      "outputs": []
    }
  ]
}